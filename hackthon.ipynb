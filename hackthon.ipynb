{
 "cells": [
  {
   "cell_type": "code",
   "execution_count": 1,
   "metadata": {},
   "outputs": [
    {
     "data": {
      "text/plain": [
       "'/home/vikas'"
      ]
     },
     "execution_count": 1,
     "metadata": {},
     "output_type": "execute_result"
    }
   ],
   "source": [
    "pwd"
   ]
  },
  {
   "cell_type": "code",
   "execution_count": 2,
   "metadata": {},
   "outputs": [
    {
     "name": "stdout",
     "output_type": "stream",
     "text": [
      "/home/vikas/Documents/datasets\n"
     ]
    }
   ],
   "source": [
    "cd /home/vikas/Documents/datasets"
   ]
  },
  {
   "cell_type": "code",
   "execution_count": 3,
   "metadata": {},
   "outputs": [
    {
     "name": "stdout",
     "output_type": "stream",
     "text": [
      "'A Gentle Introduction to Keras.ipynb'   cancer1.csv   \u001b[0m\u001b[01;34mprgrm\u001b[0m/\r\n",
      " banknote.csv                            data.csv      sample_submission.csv\r\n",
      " BBC.csv                                 data.tsv      v.csv\r\n",
      " BBCN.csv                                heart.csv     wine.csv\r\n"
     ]
    }
   ],
   "source": [
    "ls"
   ]
  },
  {
   "cell_type": "markdown",
   "metadata": {},
   "source": [
    "# Name- vikas kumar_Q.No.-4_PI-ATHON-2\n",
    "\n",
    "# reg.no.-11710782\n",
    "\n",
    "# roll.no.-B67\n",
    "\n",
    "# section-k1622\n",
    "\n",
    "# datasets: Gender Pronouns Resolution"
   ]
  },
  {
   "cell_type": "code",
   "execution_count": 5,
   "metadata": {},
   "outputs": [],
   "source": [
    "\n",
    "\n",
    "import matplotlib.pyplot as plt\n",
    "import seaborn as sns\n",
    "import pandas as pd\n",
    "import numpy as np\n",
    "import matplotlib\n",
    "import sklearn\n",
    "import gensim\n",
    "import scipy\n",
    "import numpy\n",
    "import nltk\n",
    "import sys\n",
    "import csv\n",
    "import os\n",
    "\n"
   ]
  },
  {
   "cell_type": "code",
   "execution_count": 6,
   "metadata": {},
   "outputs": [],
   "source": [
    "data=pd.read_csv('data.tsv',sep='\\t')"
   ]
  },
  {
   "cell_type": "code",
   "execution_count": 7,
   "metadata": {},
   "outputs": [
    {
     "name": "stdout",
     "output_type": "stream",
     "text": [
      "Datasets:\n",
      "\n"
     ]
    },
    {
     "data": {
      "text/plain": [
       "<bound method NDFrame.head of                     ID                                               Text  \\\n",
       "0        development-1  Zoe Telford -- played the police officer girlf...   \n",
       "1        development-2  He grew up in Evanston, Illinois the second ol...   \n",
       "2        development-3  He had been reelected to Congress, but resigne...   \n",
       "3        development-4  The current members of Crime have also perform...   \n",
       "4        development-5  Her Santa Fe Opera debut in 2005 was as Nuria ...   \n",
       "5        development-6  Sandra Collins is an American DJ. She got her ...   \n",
       "6        development-7  Reb Chaim Yaakov's wife is the sister of Rabbi...   \n",
       "7        development-8  Slant Magazine's Sal Cinquemani viewed the alb...   \n",
       "8        development-9  Her father was an Englishman ``of rank and cul...   \n",
       "9       development-10  Shaftesbury's UK partners in the production of...   \n",
       "10      development-11  William Shatner portraying writer Mark Twain; ...   \n",
       "11      development-12  His maternal great-grandfather was Henry Percy...   \n",
       "12      development-13  Killian in 1978--79, an assistant district att...   \n",
       "13      development-14  ARTA driver Vitantonio Liuzzi will be replaced...   \n",
       "14      development-15  Twenty years ago, Lorenzo Uribe discovered tru...   \n",
       "15      development-16  A colleague in the department run by Erwin Fri...   \n",
       "16      development-17  Maurice custom-tailors clothing for de Var*ze ...   \n",
       "17      development-18  In 1988, Race suffered an abdominal injury and...   \n",
       "18      development-19  The rest of the group find out what has happen...   \n",
       "19      development-20  On 30 July 1966, Ramsey's promise was fulfille...   \n",
       "20      development-21  Ben Severson is a pioneer in the sport of body...   \n",
       "21      development-22  This device allowed him to continue his racing...   \n",
       "22      development-23  The meeting went a little differently from wha...   \n",
       "23      development-24  Louis McNeill begin her publishing career sell...   \n",
       "24      development-25  Her initial ambition was to become a ``culture...   \n",
       "25      development-26  They were broadly positive, though they stoppe...   \n",
       "26      development-27  Connie, in a one-sided conversation, gives pra...   \n",
       "27      development-28  This is a list of episodes from the MTV show B...   \n",
       "28      development-29  Meet Mike, the shortest bully to appear on the...   \n",
       "29      development-30  With only six months' experience under his bel...   \n",
       "...                ...                                                ...   \n",
       "1970  development-1971  Maria tries to warn Natasha off him, claiming ...   \n",
       "1971  development-1972  The first series began in April 2016 and retur...   \n",
       "1972  development-1973  Here he settled in Paris at first, but in 1859...   \n",
       "1973  development-1974  Early in Brooke's career, she signed a develop...   \n",
       "1974  development-1975  Princess Elizabeth of Sweden, (also Elisabet G...   \n",
       "1975  development-1976  Her doll description calls her ``a curious pra...   \n",
       "1976  development-1977  ``Don't Cry Your Heart Out'' was radio-friendl...   \n",
       "1977  development-1978  Jacky had decked out the Lorelei Lee to carry ...   \n",
       "1978  development-1979  The series begins with Bloody Jack, Curse of t...   \n",
       "1979  development-1980  After this stint, much of her acting consists ...   \n",
       "1980  development-1981  Anne Sewell Young was born in Bloomington, Wis...   \n",
       "1981  development-1982  The Season Nine DVD contains a number of delet...   \n",
       "1982  development-1983  After a long fight to establish a licensed hot...   \n",
       "1983  development-1984  He died at a very young age in 1822 after a bo...   \n",
       "1984  development-1985  It was reported in December 2009 that Biddall ...   \n",
       "1985  development-1986  Her personal best for long jump is 6.55 m set ...   \n",
       "1986  development-1987  The scene was extremely moving, and shocked fa...   \n",
       "1987  development-1988  On the morning of her disappearance, Alison st...   \n",
       "1988  development-1989  Burnett Stone (Peter Fonda) is Lily's grandfat...   \n",
       "1989  development-1990  It premiered on 2 October 2003 at the Mahalia ...   \n",
       "1990  development-1991  Her name, which means ``My friend'' in (French...   \n",
       "1991  development-1992  Desperate to avoid disappointing Little Ricky,...   \n",
       "1992  development-1993  Patric followed her back to Weatherfield and t...   \n",
       "1993  development-1994  She then determined on becoming an artist, and...   \n",
       "1994  development-1995  Bill Grainer Bill Grainer is a Grammy certifie...   \n",
       "1995  development-1996  Faye's third husband, Paul Resnick, reported t...   \n",
       "1996  development-1997  The plot of the film focuses on the life of a ...   \n",
       "1997  development-1998  Grant played the part in Trevor Nunn's movie a...   \n",
       "1998  development-1999  The fashion house specialised in hand-printed ...   \n",
       "1999  development-2000  Watkins was a close friend of Hess' first wife...   \n",
       "\n",
       "     Pronoun  Pronoun-offset                   A  A-offset  A-coref  \\\n",
       "0        her             274      Cheryl Cassidy       191     True   \n",
       "1        His             284           MacKenzie       228     True   \n",
       "2        his             265             Angeloz       173    False   \n",
       "3        his             321                Hell       174    False   \n",
       "4        She             437   Kitty Oppenheimer       219    False   \n",
       "5        She             411             Collins       236     True   \n",
       "6        his             273           Reb Asher       152    False   \n",
       "7        his             337            Greg Kot       173    False   \n",
       "8        her             246          Mary Paine       255    False   \n",
       "9        she             329  Christina Jennings       196     True   \n",
       "10       his             300    Peter Mansbridge       168    False   \n",
       "11       She             304             Eleanor       217     True   \n",
       "12       her             293            Williams       247     True   \n",
       "13       his             340     Kazuki Nakajima       275     True   \n",
       "14       her             250               Maria       219     True   \n",
       "15       she             295        Alma Taggart       192    False   \n",
       "16       him             384             Maurice       334     True   \n",
       "17       his             330        Randy Savage       181    False   \n",
       "18       him             335              Justin       281    False   \n",
       "19       his             476             Greaves       330    False   \n",
       "20        He             234        Mike Stewart       113    False   \n",
       "21       his             304                Kurt       317     True   \n",
       "22       his             430               Magee       296     True   \n",
       "23       her             447     Maggie Anderson       273    False   \n",
       "24       her             329             Hartwig       210     True   \n",
       "25       his             299  Michael Billington        92    False   \n",
       "26       her             280                Beth       238    False   \n",
       "27       his             194                Alan       204     True   \n",
       "28       him             250       Mayhem Miller       153    False   \n",
       "29       his             294                Paul       241     True   \n",
       "...      ...             ...                 ...       ...      ...   \n",
       "1970     her             340             Natasha       295    False   \n",
       "1971     She             258               Humes       170     True   \n",
       "1972     her             389            Whistler       285    False   \n",
       "1973     her             188                Leah       130    False   \n",
       "1974     she             454          Sofia Vasa       317    False   \n",
       "1975     She             259              Maddie       228     True   \n",
       "1976     her             320          Deasismont       206    False   \n",
       "1977     her             261             Lorelei       136    False   \n",
       "1978     she             298               Jacky       231     True   \n",
       "1979     she             570              Haiduk       408     True   \n",
       "1980     She             120   Anne Sewell Young         0     True   \n",
       "1981     her             285             Phyllis       211    False   \n",
       "1982     her             318        Edith Weston       193     True   \n",
       "1983     she             267              Hellen       235    False   \n",
       "1984     her             284             Biddall       216     True   \n",
       "1985     She             247   Anju Bobby George       176    False   \n",
       "1986     her             251             Melissa       184    False   \n",
       "1987     her              18              Alison        37     True   \n",
       "1988     her              81                Lily        31     True   \n",
       "1989     her             414            Musgrave       355     True   \n",
       "1990     her             301            Marianne       264    False   \n",
       "1991     she             318               Ethel       101    False   \n",
       "1992     her             316               Jenny       343     True   \n",
       "1993     her             407      Louise Breslau       363     True   \n",
       "1994     her             212          Linda Eder       131    False   \n",
       "1995     her             433              Nicole       255    False   \n",
       "1996     her             246           Doris Chu       111    False   \n",
       "1997     she             348               Maria       259     True   \n",
       "1998     She             284               Helen       145     True   \n",
       "1999     her             373           Elizabeth       293    False   \n",
       "\n",
       "                            B  B-offset  B-coref  \\\n",
       "0                     Pauline       207    False   \n",
       "1               Bernard Leach       251    False   \n",
       "2                  De la Sota       246     True   \n",
       "3             Henry Rosenthal       336     True   \n",
       "4                      Rivera       294     True   \n",
       "5                          DJ       347    False   \n",
       "6                 Akiva Eiger       253    False   \n",
       "7            Robert Christgau       377     True   \n",
       "8                      Kelsey       267     True   \n",
       "9            Kirstine Stewart       226    False   \n",
       "10                David Onley       212     True   \n",
       "11          Eleanor Beauchamp       285    False   \n",
       "12           Mary Helen Moses       273    False   \n",
       "13              Oliver Jarvis       297    False   \n",
       "14                     Gracia       235    False   \n",
       "15                  McCulloch       219    False   \n",
       "16                    Gilbert       365    False   \n",
       "17                Ted DiBiase       235    False   \n",
       "18                        Tim       296     True   \n",
       "19                     Ramsey       381     True   \n",
       "20                        Ben       150     True   \n",
       "21                Paul Newman       338    False   \n",
       "22              Kenneth Grant       386    False   \n",
       "23                    McNeill       301     True   \n",
       "24              Margaret Bell       266    False   \n",
       "25                     Martin       266     True   \n",
       "26                     Connie       263     True   \n",
       "27                       Ryan       223    False   \n",
       "28              Eddie Alvarez       189    False   \n",
       "29          Freddie Griffiths       258    False   \n",
       "...                       ...       ...      ...   \n",
       "1970                    Maria       309     True   \n",
       "1971      Sarah-Jane Crawford       237    False   \n",
       "1972         Joanna Heffernan       298     True   \n",
       "1973                   Brooke       200     True   \n",
       "1974       Princess Elizabeth       399     True   \n",
       "1975                    Raven       238    False   \n",
       "1976                      Amy       312     True   \n",
       "1977                    Jacky       188     True   \n",
       "1978              Lorelei Lee       263    False   \n",
       "1979           Hannah Nichols       480    False   \n",
       "1980              Mary Sewell       107    False   \n",
       "1981                     Erin       276     True   \n",
       "1982  Lady Helen De Crespigny       230    False   \n",
       "1983                 Margaret       246    False   \n",
       "1984               Zoe Lister       253    False   \n",
       "1985          Pramila Aiyappa       230    False   \n",
       "1986                  Suzanne       201    False   \n",
       "1987                    Jenna       101    False   \n",
       "1988                     Lady        54    False   \n",
       "1989       Micaela Almonester       370    False   \n",
       "1990                 Lucienne       277    False   \n",
       "1991                     Lucy       128     True   \n",
       "1992                     Rita       372    False   \n",
       "1993             Bashkirtseff       384    False   \n",
       "1994          Jennifer Hudson       147     True   \n",
       "1995                     Faye       328     True   \n",
       "1996                      Mei       215     True   \n",
       "1997          Imelda Staunton       266    False   \n",
       "1998          Suzanne Bartsch       208    False   \n",
       "1999                  Watkins       347     True   \n",
       "\n",
       "                                                    URL  \n",
       "0     http://en.wikipedia.org/wiki/List_of_Teachers_...  \n",
       "1         http://en.wikipedia.org/wiki/Warren_MacKenzie  \n",
       "2     http://en.wikipedia.org/wiki/Jos%C3%A9_Manuel_...  \n",
       "3             http://en.wikipedia.org/wiki/Crime_(band)  \n",
       "4           http://en.wikipedia.org/wiki/Jessica_Rivera  \n",
       "5           http://en.wikipedia.org/wiki/Sandra_Collins  \n",
       "6             http://en.wikipedia.org/wiki/Asher_Arieli  \n",
       "7     http://en.wikipedia.org/wiki/The_Truth_About_L...  \n",
       "8            http://en.wikipedia.org/wiki/Mary_S._Peake  \n",
       "9        http://en.wikipedia.org/wiki/Murdoch_Mysteries  \n",
       "10       http://en.wikipedia.org/wiki/Murdoch_Mysteries  \n",
       "11    http://en.wikipedia.org/wiki/Henry_Clifford,_2...  \n",
       "12         http://en.wikipedia.org/wiki/Amanda_Williams  \n",
       "13    http://en.wikipedia.org/wiki/2015_Super_GT_Series  \n",
       "14               http://en.wikipedia.org/wiki/Malparida  \n",
       "15         http://en.wikipedia.org/wiki/Lucia_McCulloch  \n",
       "16         http://en.wikipedia.org/wiki/Love_Me_Tonight  \n",
       "17        http://en.wikipedia.org/wiki/King_of_the_Ring  \n",
       "18    http://en.wikipedia.org/wiki/Never_Back_Down_2...  \n",
       "19              http://en.wikipedia.org/wiki/Alf_Ramsey  \n",
       "20            http://en.wikipedia.org/wiki/Ben_Severson  \n",
       "21           http://en.wikipedia.org/wiki/Kurt_Kossmann  \n",
       "22    http://en.wikipedia.org/wiki/Mike_Magee_(journ...  \n",
       "23          http://en.wikipedia.org/wiki/Louise_McNeill  \n",
       "24           http://en.wikipedia.org/wiki/Marie_Hartwig  \n",
       "25           http://en.wikipedia.org/wiki/Life_and_Beth  \n",
       "26           http://en.wikipedia.org/wiki/Life_and_Beth  \n",
       "27    http://en.wikipedia.org/wiki/List_of_Bully_Bea...  \n",
       "28    http://en.wikipedia.org/wiki/List_of_Bully_Bea...  \n",
       "29              http://en.wikipedia.org/wiki/Tommy_Paul  \n",
       "...                                                 ...  \n",
       "1970      http://en.wikipedia.org/wiki/Natasha_Blakeman  \n",
       "1971        http://en.wikipedia.org/wiki/Rochelle_Humes  \n",
       "1972  http://en.wikipedia.org/wiki/Symphony_in_White...  \n",
       "1973   http://en.wikipedia.org/wiki/Brooke_Barrettsmith  \n",
       "1974  http://en.wikipedia.org/wiki/Princess_Elizabet...  \n",
       "1975       http://en.wikipedia.org/wiki/Ever_After_High  \n",
       "1976        http://en.wikipedia.org/wiki/Amy_Deasismont  \n",
       "1977  http://en.wikipedia.org/wiki/The_Wake_of_the_L...  \n",
       "1978  http://en.wikipedia.org/wiki/The_Wake_of_the_L...  \n",
       "1979          http://en.wikipedia.org/wiki/Stacy_Haiduk  \n",
       "1980     http://en.wikipedia.org/wiki/Anne_Sewell_Young  \n",
       "1981   http://en.wikipedia.org/wiki/Finale_(The_Office)  \n",
       "1982      http://en.wikipedia.org/wiki/Elcot_Park_Hotel  \n",
       "1983      http://en.wikipedia.org/wiki/Elcot_Park_Hotel  \n",
       "1984      http://en.wikipedia.org/wiki/Jennifer_Biddall  \n",
       "1985        http://en.wikipedia.org/wiki/M._A._Prajusha  \n",
       "1986      http://en.wikipedia.org/wiki/Suzanne_Ashworth  \n",
       "1987    http://en.wikipedia.org/wiki/Alison_DiLaurentis  \n",
       "1988  http://en.wikipedia.org/wiki/Thomas_the_Tank_E...  \n",
       "1989      http://en.wikipedia.org/wiki/Pontalba_(opera)  \n",
       "1990  http://en.wikipedia.org/wiki/Yakushiji_Ry%C5%8...  \n",
       "1991     http://en.wikipedia.org/wiki/Lucy_and_Superman  \n",
       "1992         http://en.wikipedia.org/wiki/Jenny_Bradley  \n",
       "1993    http://en.wikipedia.org/wiki/Marie_Bashkirtseff  \n",
       "1994          http://en.wikipedia.org/wiki/Bill_Grainer  \n",
       "1995          http://en.wikipedia.org/wiki/Faye_Resnick  \n",
       "1996              http://en.wikipedia.org/wiki/Two_Lies  \n",
       "1997  http://en.wikipedia.org/wiki/Sir_Andrew_Aguecheek  \n",
       "1998           http://en.wikipedia.org/wiki/Helen_David  \n",
       "1999         http://en.wikipedia.org/wiki/Linda_Watkins  \n",
       "\n",
       "[2000 rows x 11 columns]>"
      ]
     },
     "execution_count": 7,
     "metadata": {},
     "output_type": "execute_result"
    }
   ],
   "source": [
    "print(\"Datasets:\\n\")\n",
    "data.head\n"
   ]
  },
  {
   "cell_type": "code",
   "execution_count": 8,
   "metadata": {},
   "outputs": [
    {
     "name": "stdout",
     "output_type": "stream",
     "text": [
      "Total number of rows and columns:\n"
     ]
    },
    {
     "data": {
      "text/plain": [
       "(2000, 11)"
      ]
     },
     "execution_count": 8,
     "metadata": {},
     "output_type": "execute_result"
    }
   ],
   "source": [
    "print(\"Total number of rows and columns:\")\n",
    "data.shape\n"
   ]
  },
  {
   "cell_type": "code",
   "execution_count": 9,
   "metadata": {},
   "outputs": [
    {
     "name": "stdout",
     "output_type": "stream",
     "text": [
      "Numbers of rows:\n"
     ]
    },
    {
     "data": {
      "text/plain": [
       "2000"
      ]
     },
     "execution_count": 9,
     "metadata": {},
     "output_type": "execute_result"
    }
   ],
   "source": [
    "print(\"Numbers of rows:\")\n",
    "data.shape[0]\n"
   ]
  },
  {
   "cell_type": "code",
   "execution_count": 10,
   "metadata": {},
   "outputs": [
    {
     "name": "stdout",
     "output_type": "stream",
     "text": [
      "Numbers of columns:\n"
     ]
    },
    {
     "data": {
      "text/plain": [
       "11"
      ]
     },
     "execution_count": 10,
     "metadata": {},
     "output_type": "execute_result"
    }
   ],
   "source": [
    "print(\"Numbers of columns:\")\n",
    "data.shape[1]\n"
   ]
  },
  {
   "cell_type": "code",
   "execution_count": 11,
   "metadata": {},
   "outputs": [
    {
     "name": "stdout",
     "output_type": "stream",
     "text": [
      "Described the data:\n"
     ]
    },
    {
     "data": {
      "text/plain": [
       "<bound method NDFrame.describe of                     ID                                               Text  \\\n",
       "0        development-1  Zoe Telford -- played the police officer girlf...   \n",
       "1        development-2  He grew up in Evanston, Illinois the second ol...   \n",
       "2        development-3  He had been reelected to Congress, but resigne...   \n",
       "3        development-4  The current members of Crime have also perform...   \n",
       "4        development-5  Her Santa Fe Opera debut in 2005 was as Nuria ...   \n",
       "5        development-6  Sandra Collins is an American DJ. She got her ...   \n",
       "6        development-7  Reb Chaim Yaakov's wife is the sister of Rabbi...   \n",
       "7        development-8  Slant Magazine's Sal Cinquemani viewed the alb...   \n",
       "8        development-9  Her father was an Englishman ``of rank and cul...   \n",
       "9       development-10  Shaftesbury's UK partners in the production of...   \n",
       "10      development-11  William Shatner portraying writer Mark Twain; ...   \n",
       "11      development-12  His maternal great-grandfather was Henry Percy...   \n",
       "12      development-13  Killian in 1978--79, an assistant district att...   \n",
       "13      development-14  ARTA driver Vitantonio Liuzzi will be replaced...   \n",
       "14      development-15  Twenty years ago, Lorenzo Uribe discovered tru...   \n",
       "15      development-16  A colleague in the department run by Erwin Fri...   \n",
       "16      development-17  Maurice custom-tailors clothing for de Var*ze ...   \n",
       "17      development-18  In 1988, Race suffered an abdominal injury and...   \n",
       "18      development-19  The rest of the group find out what has happen...   \n",
       "19      development-20  On 30 July 1966, Ramsey's promise was fulfille...   \n",
       "20      development-21  Ben Severson is a pioneer in the sport of body...   \n",
       "21      development-22  This device allowed him to continue his racing...   \n",
       "22      development-23  The meeting went a little differently from wha...   \n",
       "23      development-24  Louis McNeill begin her publishing career sell...   \n",
       "24      development-25  Her initial ambition was to become a ``culture...   \n",
       "25      development-26  They were broadly positive, though they stoppe...   \n",
       "26      development-27  Connie, in a one-sided conversation, gives pra...   \n",
       "27      development-28  This is a list of episodes from the MTV show B...   \n",
       "28      development-29  Meet Mike, the shortest bully to appear on the...   \n",
       "29      development-30  With only six months' experience under his bel...   \n",
       "...                ...                                                ...   \n",
       "1970  development-1971  Maria tries to warn Natasha off him, claiming ...   \n",
       "1971  development-1972  The first series began in April 2016 and retur...   \n",
       "1972  development-1973  Here he settled in Paris at first, but in 1859...   \n",
       "1973  development-1974  Early in Brooke's career, she signed a develop...   \n",
       "1974  development-1975  Princess Elizabeth of Sweden, (also Elisabet G...   \n",
       "1975  development-1976  Her doll description calls her ``a curious pra...   \n",
       "1976  development-1977  ``Don't Cry Your Heart Out'' was radio-friendl...   \n",
       "1977  development-1978  Jacky had decked out the Lorelei Lee to carry ...   \n",
       "1978  development-1979  The series begins with Bloody Jack, Curse of t...   \n",
       "1979  development-1980  After this stint, much of her acting consists ...   \n",
       "1980  development-1981  Anne Sewell Young was born in Bloomington, Wis...   \n",
       "1981  development-1982  The Season Nine DVD contains a number of delet...   \n",
       "1982  development-1983  After a long fight to establish a licensed hot...   \n",
       "1983  development-1984  He died at a very young age in 1822 after a bo...   \n",
       "1984  development-1985  It was reported in December 2009 that Biddall ...   \n",
       "1985  development-1986  Her personal best for long jump is 6.55 m set ...   \n",
       "1986  development-1987  The scene was extremely moving, and shocked fa...   \n",
       "1987  development-1988  On the morning of her disappearance, Alison st...   \n",
       "1988  development-1989  Burnett Stone (Peter Fonda) is Lily's grandfat...   \n",
       "1989  development-1990  It premiered on 2 October 2003 at the Mahalia ...   \n",
       "1990  development-1991  Her name, which means ``My friend'' in (French...   \n",
       "1991  development-1992  Desperate to avoid disappointing Little Ricky,...   \n",
       "1992  development-1993  Patric followed her back to Weatherfield and t...   \n",
       "1993  development-1994  She then determined on becoming an artist, and...   \n",
       "1994  development-1995  Bill Grainer Bill Grainer is a Grammy certifie...   \n",
       "1995  development-1996  Faye's third husband, Paul Resnick, reported t...   \n",
       "1996  development-1997  The plot of the film focuses on the life of a ...   \n",
       "1997  development-1998  Grant played the part in Trevor Nunn's movie a...   \n",
       "1998  development-1999  The fashion house specialised in hand-printed ...   \n",
       "1999  development-2000  Watkins was a close friend of Hess' first wife...   \n",
       "\n",
       "     Pronoun  Pronoun-offset                   A  A-offset  A-coref  \\\n",
       "0        her             274      Cheryl Cassidy       191     True   \n",
       "1        His             284           MacKenzie       228     True   \n",
       "2        his             265             Angeloz       173    False   \n",
       "3        his             321                Hell       174    False   \n",
       "4        She             437   Kitty Oppenheimer       219    False   \n",
       "5        She             411             Collins       236     True   \n",
       "6        his             273           Reb Asher       152    False   \n",
       "7        his             337            Greg Kot       173    False   \n",
       "8        her             246          Mary Paine       255    False   \n",
       "9        she             329  Christina Jennings       196     True   \n",
       "10       his             300    Peter Mansbridge       168    False   \n",
       "11       She             304             Eleanor       217     True   \n",
       "12       her             293            Williams       247     True   \n",
       "13       his             340     Kazuki Nakajima       275     True   \n",
       "14       her             250               Maria       219     True   \n",
       "15       she             295        Alma Taggart       192    False   \n",
       "16       him             384             Maurice       334     True   \n",
       "17       his             330        Randy Savage       181    False   \n",
       "18       him             335              Justin       281    False   \n",
       "19       his             476             Greaves       330    False   \n",
       "20        He             234        Mike Stewart       113    False   \n",
       "21       his             304                Kurt       317     True   \n",
       "22       his             430               Magee       296     True   \n",
       "23       her             447     Maggie Anderson       273    False   \n",
       "24       her             329             Hartwig       210     True   \n",
       "25       his             299  Michael Billington        92    False   \n",
       "26       her             280                Beth       238    False   \n",
       "27       his             194                Alan       204     True   \n",
       "28       him             250       Mayhem Miller       153    False   \n",
       "29       his             294                Paul       241     True   \n",
       "...      ...             ...                 ...       ...      ...   \n",
       "1970     her             340             Natasha       295    False   \n",
       "1971     She             258               Humes       170     True   \n",
       "1972     her             389            Whistler       285    False   \n",
       "1973     her             188                Leah       130    False   \n",
       "1974     she             454          Sofia Vasa       317    False   \n",
       "1975     She             259              Maddie       228     True   \n",
       "1976     her             320          Deasismont       206    False   \n",
       "1977     her             261             Lorelei       136    False   \n",
       "1978     she             298               Jacky       231     True   \n",
       "1979     she             570              Haiduk       408     True   \n",
       "1980     She             120   Anne Sewell Young         0     True   \n",
       "1981     her             285             Phyllis       211    False   \n",
       "1982     her             318        Edith Weston       193     True   \n",
       "1983     she             267              Hellen       235    False   \n",
       "1984     her             284             Biddall       216     True   \n",
       "1985     She             247   Anju Bobby George       176    False   \n",
       "1986     her             251             Melissa       184    False   \n",
       "1987     her              18              Alison        37     True   \n",
       "1988     her              81                Lily        31     True   \n",
       "1989     her             414            Musgrave       355     True   \n",
       "1990     her             301            Marianne       264    False   \n",
       "1991     she             318               Ethel       101    False   \n",
       "1992     her             316               Jenny       343     True   \n",
       "1993     her             407      Louise Breslau       363     True   \n",
       "1994     her             212          Linda Eder       131    False   \n",
       "1995     her             433              Nicole       255    False   \n",
       "1996     her             246           Doris Chu       111    False   \n",
       "1997     she             348               Maria       259     True   \n",
       "1998     She             284               Helen       145     True   \n",
       "1999     her             373           Elizabeth       293    False   \n",
       "\n",
       "                            B  B-offset  B-coref  \\\n",
       "0                     Pauline       207    False   \n",
       "1               Bernard Leach       251    False   \n",
       "2                  De la Sota       246     True   \n",
       "3             Henry Rosenthal       336     True   \n",
       "4                      Rivera       294     True   \n",
       "5                          DJ       347    False   \n",
       "6                 Akiva Eiger       253    False   \n",
       "7            Robert Christgau       377     True   \n",
       "8                      Kelsey       267     True   \n",
       "9            Kirstine Stewart       226    False   \n",
       "10                David Onley       212     True   \n",
       "11          Eleanor Beauchamp       285    False   \n",
       "12           Mary Helen Moses       273    False   \n",
       "13              Oliver Jarvis       297    False   \n",
       "14                     Gracia       235    False   \n",
       "15                  McCulloch       219    False   \n",
       "16                    Gilbert       365    False   \n",
       "17                Ted DiBiase       235    False   \n",
       "18                        Tim       296     True   \n",
       "19                     Ramsey       381     True   \n",
       "20                        Ben       150     True   \n",
       "21                Paul Newman       338    False   \n",
       "22              Kenneth Grant       386    False   \n",
       "23                    McNeill       301     True   \n",
       "24              Margaret Bell       266    False   \n",
       "25                     Martin       266     True   \n",
       "26                     Connie       263     True   \n",
       "27                       Ryan       223    False   \n",
       "28              Eddie Alvarez       189    False   \n",
       "29          Freddie Griffiths       258    False   \n",
       "...                       ...       ...      ...   \n",
       "1970                    Maria       309     True   \n",
       "1971      Sarah-Jane Crawford       237    False   \n",
       "1972         Joanna Heffernan       298     True   \n",
       "1973                   Brooke       200     True   \n",
       "1974       Princess Elizabeth       399     True   \n",
       "1975                    Raven       238    False   \n",
       "1976                      Amy       312     True   \n",
       "1977                    Jacky       188     True   \n",
       "1978              Lorelei Lee       263    False   \n",
       "1979           Hannah Nichols       480    False   \n",
       "1980              Mary Sewell       107    False   \n",
       "1981                     Erin       276     True   \n",
       "1982  Lady Helen De Crespigny       230    False   \n",
       "1983                 Margaret       246    False   \n",
       "1984               Zoe Lister       253    False   \n",
       "1985          Pramila Aiyappa       230    False   \n",
       "1986                  Suzanne       201    False   \n",
       "1987                    Jenna       101    False   \n",
       "1988                     Lady        54    False   \n",
       "1989       Micaela Almonester       370    False   \n",
       "1990                 Lucienne       277    False   \n",
       "1991                     Lucy       128     True   \n",
       "1992                     Rita       372    False   \n",
       "1993             Bashkirtseff       384    False   \n",
       "1994          Jennifer Hudson       147     True   \n",
       "1995                     Faye       328     True   \n",
       "1996                      Mei       215     True   \n",
       "1997          Imelda Staunton       266    False   \n",
       "1998          Suzanne Bartsch       208    False   \n",
       "1999                  Watkins       347     True   \n",
       "\n",
       "                                                    URL  \n",
       "0     http://en.wikipedia.org/wiki/List_of_Teachers_...  \n",
       "1         http://en.wikipedia.org/wiki/Warren_MacKenzie  \n",
       "2     http://en.wikipedia.org/wiki/Jos%C3%A9_Manuel_...  \n",
       "3             http://en.wikipedia.org/wiki/Crime_(band)  \n",
       "4           http://en.wikipedia.org/wiki/Jessica_Rivera  \n",
       "5           http://en.wikipedia.org/wiki/Sandra_Collins  \n",
       "6             http://en.wikipedia.org/wiki/Asher_Arieli  \n",
       "7     http://en.wikipedia.org/wiki/The_Truth_About_L...  \n",
       "8            http://en.wikipedia.org/wiki/Mary_S._Peake  \n",
       "9        http://en.wikipedia.org/wiki/Murdoch_Mysteries  \n",
       "10       http://en.wikipedia.org/wiki/Murdoch_Mysteries  \n",
       "11    http://en.wikipedia.org/wiki/Henry_Clifford,_2...  \n",
       "12         http://en.wikipedia.org/wiki/Amanda_Williams  \n",
       "13    http://en.wikipedia.org/wiki/2015_Super_GT_Series  \n",
       "14               http://en.wikipedia.org/wiki/Malparida  \n",
       "15         http://en.wikipedia.org/wiki/Lucia_McCulloch  \n",
       "16         http://en.wikipedia.org/wiki/Love_Me_Tonight  \n",
       "17        http://en.wikipedia.org/wiki/King_of_the_Ring  \n",
       "18    http://en.wikipedia.org/wiki/Never_Back_Down_2...  \n",
       "19              http://en.wikipedia.org/wiki/Alf_Ramsey  \n",
       "20            http://en.wikipedia.org/wiki/Ben_Severson  \n",
       "21           http://en.wikipedia.org/wiki/Kurt_Kossmann  \n",
       "22    http://en.wikipedia.org/wiki/Mike_Magee_(journ...  \n",
       "23          http://en.wikipedia.org/wiki/Louise_McNeill  \n",
       "24           http://en.wikipedia.org/wiki/Marie_Hartwig  \n",
       "25           http://en.wikipedia.org/wiki/Life_and_Beth  \n",
       "26           http://en.wikipedia.org/wiki/Life_and_Beth  \n",
       "27    http://en.wikipedia.org/wiki/List_of_Bully_Bea...  \n",
       "28    http://en.wikipedia.org/wiki/List_of_Bully_Bea...  \n",
       "29              http://en.wikipedia.org/wiki/Tommy_Paul  \n",
       "...                                                 ...  \n",
       "1970      http://en.wikipedia.org/wiki/Natasha_Blakeman  \n",
       "1971        http://en.wikipedia.org/wiki/Rochelle_Humes  \n",
       "1972  http://en.wikipedia.org/wiki/Symphony_in_White...  \n",
       "1973   http://en.wikipedia.org/wiki/Brooke_Barrettsmith  \n",
       "1974  http://en.wikipedia.org/wiki/Princess_Elizabet...  \n",
       "1975       http://en.wikipedia.org/wiki/Ever_After_High  \n",
       "1976        http://en.wikipedia.org/wiki/Amy_Deasismont  \n",
       "1977  http://en.wikipedia.org/wiki/The_Wake_of_the_L...  \n",
       "1978  http://en.wikipedia.org/wiki/The_Wake_of_the_L...  \n",
       "1979          http://en.wikipedia.org/wiki/Stacy_Haiduk  \n",
       "1980     http://en.wikipedia.org/wiki/Anne_Sewell_Young  \n",
       "1981   http://en.wikipedia.org/wiki/Finale_(The_Office)  \n",
       "1982      http://en.wikipedia.org/wiki/Elcot_Park_Hotel  \n",
       "1983      http://en.wikipedia.org/wiki/Elcot_Park_Hotel  \n",
       "1984      http://en.wikipedia.org/wiki/Jennifer_Biddall  \n",
       "1985        http://en.wikipedia.org/wiki/M._A._Prajusha  \n",
       "1986      http://en.wikipedia.org/wiki/Suzanne_Ashworth  \n",
       "1987    http://en.wikipedia.org/wiki/Alison_DiLaurentis  \n",
       "1988  http://en.wikipedia.org/wiki/Thomas_the_Tank_E...  \n",
       "1989      http://en.wikipedia.org/wiki/Pontalba_(opera)  \n",
       "1990  http://en.wikipedia.org/wiki/Yakushiji_Ry%C5%8...  \n",
       "1991     http://en.wikipedia.org/wiki/Lucy_and_Superman  \n",
       "1992         http://en.wikipedia.org/wiki/Jenny_Bradley  \n",
       "1993    http://en.wikipedia.org/wiki/Marie_Bashkirtseff  \n",
       "1994          http://en.wikipedia.org/wiki/Bill_Grainer  \n",
       "1995          http://en.wikipedia.org/wiki/Faye_Resnick  \n",
       "1996              http://en.wikipedia.org/wiki/Two_Lies  \n",
       "1997  http://en.wikipedia.org/wiki/Sir_Andrew_Aguecheek  \n",
       "1998           http://en.wikipedia.org/wiki/Helen_David  \n",
       "1999         http://en.wikipedia.org/wiki/Linda_Watkins  \n",
       "\n",
       "[2000 rows x 11 columns]>"
      ]
     },
     "execution_count": 11,
     "metadata": {},
     "output_type": "execute_result"
    }
   ],
   "source": [
    "print(\"Described the data:\")\n",
    "data.describe\n"
   ]
  },
  {
   "cell_type": "code",
   "execution_count": 12,
   "metadata": {},
   "outputs": [
    {
     "name": "stdout",
     "output_type": "stream",
     "text": [
      "Columns name:\n"
     ]
    },
    {
     "data": {
      "text/plain": [
       "Index(['ID', 'Text', 'Pronoun', 'Pronoun-offset', 'A', 'A-offset', 'A-coref',\n",
       "       'B', 'B-offset', 'B-coref', 'URL'],\n",
       "      dtype='object')"
      ]
     },
     "execution_count": 12,
     "metadata": {},
     "output_type": "execute_result"
    }
   ],
   "source": [
    "print(\"Columns name:\")\n",
    "data.columns\n"
   ]
  },
  {
   "cell_type": "code",
   "execution_count": 13,
   "metadata": {},
   "outputs": [
    {
     "name": "stdout",
     "output_type": "stream",
     "text": [
      "Total numbers of records:\n"
     ]
    },
    {
     "data": {
      "text/plain": [
       "<bound method IndexOpsMixin.value_counts of 0       False\n",
       "1       False\n",
       "2        True\n",
       "3        True\n",
       "4        True\n",
       "5       False\n",
       "6       False\n",
       "7        True\n",
       "8        True\n",
       "9       False\n",
       "10       True\n",
       "11      False\n",
       "12      False\n",
       "13      False\n",
       "14      False\n",
       "15      False\n",
       "16      False\n",
       "17      False\n",
       "18       True\n",
       "19       True\n",
       "20       True\n",
       "21      False\n",
       "22      False\n",
       "23       True\n",
       "24      False\n",
       "25       True\n",
       "26       True\n",
       "27      False\n",
       "28      False\n",
       "29      False\n",
       "        ...  \n",
       "1970     True\n",
       "1971    False\n",
       "1972     True\n",
       "1973     True\n",
       "1974     True\n",
       "1975    False\n",
       "1976     True\n",
       "1977     True\n",
       "1978    False\n",
       "1979    False\n",
       "1980    False\n",
       "1981     True\n",
       "1982    False\n",
       "1983    False\n",
       "1984    False\n",
       "1985    False\n",
       "1986    False\n",
       "1987    False\n",
       "1988    False\n",
       "1989    False\n",
       "1990    False\n",
       "1991     True\n",
       "1992    False\n",
       "1993    False\n",
       "1994     True\n",
       "1995     True\n",
       "1996     True\n",
       "1997    False\n",
       "1998    False\n",
       "1999     True\n",
       "Name: B-coref, Length: 2000, dtype: bool>"
      ]
     },
     "execution_count": 13,
     "metadata": {},
     "output_type": "execute_result"
    }
   ],
   "source": [
    "print(\"Total numbers of records:\")\n",
    "data['B-coref'].value_counts\n"
   ]
  },
  {
   "cell_type": "code",
   "execution_count": 14,
   "metadata": {},
   "outputs": [
    {
     "name": "stdout",
     "output_type": "stream",
     "text": [
      "Total numbers of class:\n"
     ]
    },
    {
     "data": {
      "text/plain": [
       "<bound method IndexOpsMixin.nunique of 0        True\n",
       "1        True\n",
       "2       False\n",
       "3       False\n",
       "4       False\n",
       "5        True\n",
       "6       False\n",
       "7       False\n",
       "8       False\n",
       "9        True\n",
       "10      False\n",
       "11       True\n",
       "12       True\n",
       "13       True\n",
       "14       True\n",
       "15      False\n",
       "16       True\n",
       "17      False\n",
       "18      False\n",
       "19      False\n",
       "20      False\n",
       "21       True\n",
       "22       True\n",
       "23      False\n",
       "24       True\n",
       "25      False\n",
       "26      False\n",
       "27       True\n",
       "28      False\n",
       "29       True\n",
       "        ...  \n",
       "1970    False\n",
       "1971     True\n",
       "1972    False\n",
       "1973    False\n",
       "1974    False\n",
       "1975     True\n",
       "1976    False\n",
       "1977    False\n",
       "1978     True\n",
       "1979     True\n",
       "1980     True\n",
       "1981    False\n",
       "1982     True\n",
       "1983    False\n",
       "1984     True\n",
       "1985    False\n",
       "1986    False\n",
       "1987     True\n",
       "1988     True\n",
       "1989     True\n",
       "1990    False\n",
       "1991    False\n",
       "1992     True\n",
       "1993     True\n",
       "1994    False\n",
       "1995    False\n",
       "1996    False\n",
       "1997     True\n",
       "1998     True\n",
       "1999    False\n",
       "Name: A-coref, Length: 2000, dtype: bool>"
      ]
     },
     "execution_count": 14,
     "metadata": {},
     "output_type": "execute_result"
    }
   ],
   "source": [
    "print(\"Total numbers of class:\")\n",
    "data['A-coref'].nunique\n"
   ]
  },
  {
   "cell_type": "code",
   "execution_count": 15,
   "metadata": {},
   "outputs": [
    {
     "name": "stdout",
     "output_type": "stream",
     "text": [
      "Check missing values:\n"
     ]
    },
    {
     "data": {
      "text/plain": [
       "ID                0\n",
       "Text              0\n",
       "Pronoun           0\n",
       "Pronoun-offset    0\n",
       "A                 0\n",
       "A-offset          0\n",
       "A-coref           0\n",
       "B                 0\n",
       "B-offset          0\n",
       "B-coref           0\n",
       "URL               0\n",
       "dtype: int64"
      ]
     },
     "execution_count": 15,
     "metadata": {},
     "output_type": "execute_result"
    }
   ],
   "source": [
    "print(\"Check missing values:\")\n",
    "data.isnull().sum()"
   ]
  },
  {
   "cell_type": "markdown",
   "metadata": {},
   "source": [
    "#  Number of words in the text"
   ]
  },
  {
   "cell_type": "code",
   "execution_count": 16,
   "metadata": {},
   "outputs": [],
   "source": [
    "data['Words']=data['Text'].apply(lambda x: len(str(x).split()))"
   ]
  },
  {
   "cell_type": "code",
   "execution_count": 17,
   "metadata": {},
   "outputs": [
    {
     "name": "stdout",
     "output_type": "stream",
     "text": [
      "maximum words:\n"
     ]
    },
    {
     "data": {
      "text/plain": [
       "204"
      ]
     },
     "execution_count": 17,
     "metadata": {},
     "output_type": "execute_result"
    }
   ],
   "source": [
    "print('maximum words:')\n",
    "data['Words'].max()"
   ]
  },
  {
   "cell_type": "code",
   "execution_count": 18,
   "metadata": {},
   "outputs": [
    {
     "name": "stdout",
     "output_type": "stream",
     "text": [
      "minimum words:\n"
     ]
    },
    {
     "data": {
      "text/plain": [
       "16"
      ]
     },
     "execution_count": 18,
     "metadata": {},
     "output_type": "execute_result"
    }
   ],
   "source": [
    "print('minimum words:')\n",
    "data['Words'].min()"
   ]
  },
  {
   "cell_type": "markdown",
   "metadata": {},
   "source": [
    "#  Number of unique words in the text:"
   ]
  },
  {
   "cell_type": "code",
   "execution_count": 19,
   "metadata": {},
   "outputs": [],
   "source": [
    "data['Unique']=data['Text'].apply(lambda x: len(set(str(x).split())))"
   ]
  },
  {
   "cell_type": "code",
   "execution_count": 20,
   "metadata": {},
   "outputs": [
    {
     "name": "stdout",
     "output_type": "stream",
     "text": [
      "maximum of unique words in train\n"
     ]
    },
    {
     "data": {
      "text/plain": [
       "136"
      ]
     },
     "execution_count": 20,
     "metadata": {},
     "output_type": "execute_result"
    }
   ],
   "source": [
    "print(\"maximum of unique words in train\")\n",
    "data['Unique'].max()\n"
   ]
  },
  {
   "cell_type": "code",
   "execution_count": 21,
   "metadata": {},
   "outputs": [
    {
     "name": "stdout",
     "output_type": "stream",
     "text": [
      "mean of unique words in data\n"
     ]
    },
    {
     "data": {
      "text/plain": [
       "56.4005"
      ]
     },
     "execution_count": 21,
     "metadata": {},
     "output_type": "execute_result"
    }
   ],
   "source": [
    "print(\"mean of unique words in data\")\n",
    "data['Unique'].mean()\n",
    "\n"
   ]
  },
  {
   "cell_type": "markdown",
   "metadata": {},
   "source": [
    "# Number of character in data"
   ]
  },
  {
   "cell_type": "code",
   "execution_count": 22,
   "metadata": {},
   "outputs": [
    {
     "name": "stdout",
     "output_type": "stream",
     "text": [
      "Numbers of character in data:\n"
     ]
    },
    {
     "data": {
      "text/plain": [
       "1270"
      ]
     },
     "execution_count": 22,
     "metadata": {},
     "output_type": "execute_result"
    }
   ],
   "source": [
    "data['Num_of_char']=data['Text'].apply(lambda x: len(str(x)))\n",
    "print('Numbers of character in data:')\n",
    "data['Num_of_char'].max()"
   ]
  },
  {
   "cell_type": "markdown",
   "metadata": {},
   "source": [
    "#  Numbers of stop words in data"
   ]
  },
  {
   "cell_type": "code",
   "execution_count": 23,
   "metadata": {},
   "outputs": [],
   "source": [
    "from nltk.corpus import stopwords \n",
    "eng_stopwords = set(stopwords.words(\"english\"))\n"
   ]
  },
  {
   "cell_type": "code",
   "execution_count": 24,
   "metadata": {},
   "outputs": [
    {
     "name": "stdout",
     "output_type": "stream",
     "text": [
      "maximum of num_stopwords in data:\n"
     ]
    },
    {
     "data": {
      "text/plain": [
       "88"
      ]
     },
     "execution_count": 24,
     "metadata": {},
     "output_type": "execute_result"
    }
   ],
   "source": [
    "data[\"num_stopwords\"] = data[\"Text\"].apply(lambda x: len([w for w in str(x).lower().split() if w in eng_stopwords]))\n",
    "print('maximum of num_stopwords in data:')\n",
    "data[\"num_stopwords\"].max()"
   ]
  },
  {
   "cell_type": "markdown",
   "metadata": {},
   "source": [
    "# Numbers of punctuation"
   ]
  },
  {
   "cell_type": "code",
   "execution_count": 25,
   "metadata": {},
   "outputs": [
    {
     "name": "stdout",
     "output_type": "stream",
     "text": [
      "maximum of num_punctuations in data:\n"
     ]
    },
    {
     "data": {
      "text/plain": [
       "93"
      ]
     },
     "execution_count": 25,
     "metadata": {},
     "output_type": "execute_result"
    }
   ],
   "source": [
    "import string\n",
    "data[\"punctuations\"] =data['Text'].apply(lambda x: len([c for c in str(x) if c in string.punctuation]) )\n",
    "print('maximum of num_punctuations in data:')\n",
    "data[\"punctuations\"].max()"
   ]
  },
  {
   "cell_type": "markdown",
   "metadata": {},
   "source": [
    "#  Numbers of title"
   ]
  },
  {
   "cell_type": "code",
   "execution_count": 26,
   "metadata": {},
   "outputs": [
    {
     "name": "stdout",
     "output_type": "stream",
     "text": [
      "maximum of num_words_upper in data:\n"
     ]
    },
    {
     "data": {
      "text/plain": [
       "11"
      ]
     },
     "execution_count": 26,
     "metadata": {},
     "output_type": "execute_result"
    }
   ],
   "source": [
    "data[\"num_words_upper\"] = data[\"Text\"].apply(lambda x: len([w for w in str(x).split() if w.isupper()]))\n",
    "print('maximum of num_words_upper in data:')\n",
    "data[\"num_words_upper\"].max()"
   ]
  },
  {
   "cell_type": "code",
   "execution_count": 27,
   "metadata": {},
   "outputs": [
    {
     "data": {
      "text/plain": [
       "Index(['ID', 'Text', 'Pronoun', 'Pronoun-offset', 'A', 'A-offset', 'A-coref',\n",
       "       'B', 'B-offset', 'B-coref', 'URL', 'Words', 'Unique', 'Num_of_char',\n",
       "       'num_stopwords', 'punctuations', 'num_words_upper'],\n",
       "      dtype='object')"
      ]
     },
     "execution_count": 27,
     "metadata": {},
     "output_type": "execute_result"
    }
   ],
   "source": [
    "data.columns"
   ]
  },
  {
   "cell_type": "code",
   "execution_count": 28,
   "metadata": {},
   "outputs": [
    {
     "data": {
      "text/html": [
       "<div>\n",
       "<style scoped>\n",
       "    .dataframe tbody tr th:only-of-type {\n",
       "        vertical-align: middle;\n",
       "    }\n",
       "\n",
       "    .dataframe tbody tr th {\n",
       "        vertical-align: top;\n",
       "    }\n",
       "\n",
       "    .dataframe thead th {\n",
       "        text-align: right;\n",
       "    }\n",
       "</style>\n",
       "<table border=\"1\" class=\"dataframe\">\n",
       "  <thead>\n",
       "    <tr style=\"text-align: right;\">\n",
       "      <th></th>\n",
       "      <th>ID</th>\n",
       "      <th>Text</th>\n",
       "      <th>Pronoun</th>\n",
       "      <th>Pronoun-offset</th>\n",
       "      <th>A</th>\n",
       "      <th>A-offset</th>\n",
       "      <th>A-coref</th>\n",
       "      <th>B</th>\n",
       "      <th>B-offset</th>\n",
       "      <th>B-coref</th>\n",
       "      <th>URL</th>\n",
       "      <th>Words</th>\n",
       "      <th>Unique</th>\n",
       "      <th>Num_of_char</th>\n",
       "      <th>num_stopwords</th>\n",
       "      <th>punctuations</th>\n",
       "      <th>num_words_upper</th>\n",
       "    </tr>\n",
       "  </thead>\n",
       "  <tbody>\n",
       "    <tr>\n",
       "      <th>0</th>\n",
       "      <td>development-1</td>\n",
       "      <td>Zoe Telford -- played the police officer girlf...</td>\n",
       "      <td>her</td>\n",
       "      <td>274</td>\n",
       "      <td>Cheryl Cassidy</td>\n",
       "      <td>191</td>\n",
       "      <td>True</td>\n",
       "      <td>Pauline</td>\n",
       "      <td>207</td>\n",
       "      <td>False</td>\n",
       "      <td>http://en.wikipedia.org/wiki/List_of_Teachers_...</td>\n",
       "      <td>74</td>\n",
       "      <td>61</td>\n",
       "      <td>426</td>\n",
       "      <td>29</td>\n",
       "      <td>14</td>\n",
       "      <td>0</td>\n",
       "    </tr>\n",
       "    <tr>\n",
       "      <th>1</th>\n",
       "      <td>development-2</td>\n",
       "      <td>He grew up in Evanston, Illinois the second ol...</td>\n",
       "      <td>His</td>\n",
       "      <td>284</td>\n",
       "      <td>MacKenzie</td>\n",
       "      <td>228</td>\n",
       "      <td>True</td>\n",
       "      <td>Bernard Leach</td>\n",
       "      <td>251</td>\n",
       "      <td>False</td>\n",
       "      <td>http://en.wikipedia.org/wiki/Warren_MacKenzie</td>\n",
       "      <td>65</td>\n",
       "      <td>58</td>\n",
       "      <td>410</td>\n",
       "      <td>22</td>\n",
       "      <td>12</td>\n",
       "      <td>0</td>\n",
       "    </tr>\n",
       "    <tr>\n",
       "      <th>2</th>\n",
       "      <td>development-3</td>\n",
       "      <td>He had been reelected to Congress, but resigne...</td>\n",
       "      <td>his</td>\n",
       "      <td>265</td>\n",
       "      <td>Angeloz</td>\n",
       "      <td>173</td>\n",
       "      <td>False</td>\n",
       "      <td>De la Sota</td>\n",
       "      <td>246</td>\n",
       "      <td>True</td>\n",
       "      <td>http://en.wikipedia.org/wiki/Jos%C3%A9_Manuel_...</td>\n",
       "      <td>95</td>\n",
       "      <td>71</td>\n",
       "      <td>536</td>\n",
       "      <td>39</td>\n",
       "      <td>16</td>\n",
       "      <td>0</td>\n",
       "    </tr>\n",
       "    <tr>\n",
       "      <th>3</th>\n",
       "      <td>development-4</td>\n",
       "      <td>The current members of Crime have also perform...</td>\n",
       "      <td>his</td>\n",
       "      <td>321</td>\n",
       "      <td>Hell</td>\n",
       "      <td>174</td>\n",
       "      <td>False</td>\n",
       "      <td>Henry Rosenthal</td>\n",
       "      <td>336</td>\n",
       "      <td>True</td>\n",
       "      <td>http://en.wikipedia.org/wiki/Crime_(band)</td>\n",
       "      <td>69</td>\n",
       "      <td>58</td>\n",
       "      <td>401</td>\n",
       "      <td>24</td>\n",
       "      <td>13</td>\n",
       "      <td>1</td>\n",
       "    </tr>\n",
       "    <tr>\n",
       "      <th>4</th>\n",
       "      <td>development-5</td>\n",
       "      <td>Her Santa Fe Opera debut in 2005 was as Nuria ...</td>\n",
       "      <td>She</td>\n",
       "      <td>437</td>\n",
       "      <td>Kitty Oppenheimer</td>\n",
       "      <td>219</td>\n",
       "      <td>False</td>\n",
       "      <td>Rivera</td>\n",
       "      <td>294</td>\n",
       "      <td>True</td>\n",
       "      <td>http://en.wikipedia.org/wiki/Jessica_Rivera</td>\n",
       "      <td>112</td>\n",
       "      <td>80</td>\n",
       "      <td>660</td>\n",
       "      <td>43</td>\n",
       "      <td>18</td>\n",
       "      <td>1</td>\n",
       "    </tr>\n",
       "  </tbody>\n",
       "</table>\n",
       "</div>"
      ],
      "text/plain": [
       "              ID                                               Text Pronoun  \\\n",
       "0  development-1  Zoe Telford -- played the police officer girlf...     her   \n",
       "1  development-2  He grew up in Evanston, Illinois the second ol...     His   \n",
       "2  development-3  He had been reelected to Congress, but resigne...     his   \n",
       "3  development-4  The current members of Crime have also perform...     his   \n",
       "4  development-5  Her Santa Fe Opera debut in 2005 was as Nuria ...     She   \n",
       "\n",
       "   Pronoun-offset                  A  A-offset  A-coref                B  \\\n",
       "0             274     Cheryl Cassidy       191     True          Pauline   \n",
       "1             284          MacKenzie       228     True    Bernard Leach   \n",
       "2             265            Angeloz       173    False       De la Sota   \n",
       "3             321               Hell       174    False  Henry Rosenthal   \n",
       "4             437  Kitty Oppenheimer       219    False           Rivera   \n",
       "\n",
       "   B-offset  B-coref                                                URL  \\\n",
       "0       207    False  http://en.wikipedia.org/wiki/List_of_Teachers_...   \n",
       "1       251    False      http://en.wikipedia.org/wiki/Warren_MacKenzie   \n",
       "2       246     True  http://en.wikipedia.org/wiki/Jos%C3%A9_Manuel_...   \n",
       "3       336     True          http://en.wikipedia.org/wiki/Crime_(band)   \n",
       "4       294     True        http://en.wikipedia.org/wiki/Jessica_Rivera   \n",
       "\n",
       "   Words  Unique  Num_of_char  num_stopwords  punctuations  num_words_upper  \n",
       "0     74      61          426             29            14                0  \n",
       "1     65      58          410             22            12                0  \n",
       "2     95      71          536             39            16                0  \n",
       "3     69      58          401             24            13                1  \n",
       "4    112      80          660             43            18                1  "
      ]
     },
     "execution_count": 28,
     "metadata": {},
     "output_type": "execute_result"
    }
   ],
   "source": [
    "data.head(5)"
   ]
  },
  {
   "cell_type": "code",
   "execution_count": 29,
   "metadata": {},
   "outputs": [
    {
     "data": {
      "text/plain": [
       "0       her\n",
       "1       His\n",
       "2       his\n",
       "3       his\n",
       "4       She\n",
       "5       She\n",
       "6       his\n",
       "7       his\n",
       "8       her\n",
       "9       she\n",
       "10      his\n",
       "11      She\n",
       "12      her\n",
       "13      his\n",
       "14      her\n",
       "15      she\n",
       "16      him\n",
       "17      his\n",
       "18      him\n",
       "19      his\n",
       "20       He\n",
       "21      his\n",
       "22      his\n",
       "23      her\n",
       "24      her\n",
       "25      his\n",
       "26      her\n",
       "27      his\n",
       "28      him\n",
       "29      his\n",
       "       ... \n",
       "1970    her\n",
       "1971    She\n",
       "1972    her\n",
       "1973    her\n",
       "1974    she\n",
       "1975    She\n",
       "1976    her\n",
       "1977    her\n",
       "1978    she\n",
       "1979    she\n",
       "1980    She\n",
       "1981    her\n",
       "1982    her\n",
       "1983    she\n",
       "1984    her\n",
       "1985    She\n",
       "1986    her\n",
       "1987    her\n",
       "1988    her\n",
       "1989    her\n",
       "1990    her\n",
       "1991    she\n",
       "1992    her\n",
       "1993    her\n",
       "1994    her\n",
       "1995    her\n",
       "1996    her\n",
       "1997    she\n",
       "1998    She\n",
       "1999    her\n",
       "Name: Pronoun, Length: 2000, dtype: object"
      ]
     },
     "execution_count": 29,
     "metadata": {},
     "output_type": "execute_result"
    }
   ],
   "source": [
    "data['Pronoun']"
   ]
  },
  {
   "cell_type": "markdown",
   "metadata": {},
   "source": [
    "# Mapping_pronouns:"
   ]
  },
  {
   "cell_type": "code",
   "execution_count": 54,
   "metadata": {},
   "outputs": [
    {
     "name": "stdout",
     "output_type": "stream",
     "text": [
      "\n",
      " {'He': 0, 'Her': 1, 'His': 2, 'She': 3, 'he': 4, 'her': 5, 'him': 6, 'his': 7, 'she': 8}\n",
      "\n",
      "\n"
     ]
    }
   ],
   "source": [
    "pronoun_maping={label:idx for idx,label in enumerate(np.unique(data['Pronoun']))}\n",
    "print(\"\\n\",pronoun_maping)\n",
    "print(\"\\n\")\n",
    "data['Pronoun_mapping']=data['Pronoun'].map(pronoun_maping)\n",
    "\n"
   ]
  },
  {
   "cell_type": "code",
   "execution_count": 55,
   "metadata": {},
   "outputs": [
    {
     "name": "stdout",
     "output_type": "stream",
     "text": [
      "\n",
      " {False: 0, True: 1}\n",
      "\n",
      "\n"
     ]
    }
   ],
   "source": [
    "Acoref_maping={label:idx for idx,label in enumerate(np.unique(data['A-coref']))}\n",
    "print(\"\\n\",Acoref_maping)\n",
    "print(\"\\n\")\n",
    "data['A_coref_mapping']=data['A-coref'].map(Acoref_maping)"
   ]
  },
  {
   "cell_type": "code",
   "execution_count": 32,
   "metadata": {},
   "outputs": [
    {
     "name": "stdout",
     "output_type": "stream",
     "text": [
      "\n",
      " {False: 0, True: 1}\n",
      "\n",
      "\n"
     ]
    }
   ],
   "source": [
    "Bcoref_maping={label:idx for idx,label in enumerate(np.unique(data['B-coref']))}\n",
    "print(\"\\n\",Bcoref_maping)\n",
    "print(\"\\n\")\n",
    "data['B_coref_mapping']=data['B-coref'].map(Acoref_maping)"
   ]
  },
  {
   "cell_type": "code",
   "execution_count": 33,
   "metadata": {},
   "outputs": [
    {
     "data": {
      "text/html": [
       "<div>\n",
       "<style scoped>\n",
       "    .dataframe tbody tr th:only-of-type {\n",
       "        vertical-align: middle;\n",
       "    }\n",
       "\n",
       "    .dataframe tbody tr th {\n",
       "        vertical-align: top;\n",
       "    }\n",
       "\n",
       "    .dataframe thead th {\n",
       "        text-align: right;\n",
       "    }\n",
       "</style>\n",
       "<table border=\"1\" class=\"dataframe\">\n",
       "  <thead>\n",
       "    <tr style=\"text-align: right;\">\n",
       "      <th></th>\n",
       "      <th>ID</th>\n",
       "      <th>Text</th>\n",
       "      <th>Pronoun</th>\n",
       "      <th>Pronoun-offset</th>\n",
       "      <th>A</th>\n",
       "      <th>A-offset</th>\n",
       "      <th>A-coref</th>\n",
       "      <th>B</th>\n",
       "      <th>B-offset</th>\n",
       "      <th>B-coref</th>\n",
       "      <th>URL</th>\n",
       "      <th>Words</th>\n",
       "      <th>Unique</th>\n",
       "      <th>Num_of_char</th>\n",
       "      <th>num_stopwords</th>\n",
       "      <th>punctuations</th>\n",
       "      <th>num_words_upper</th>\n",
       "      <th>Pronoun_mapping</th>\n",
       "      <th>A_coref_mapping</th>\n",
       "      <th>B_coref_mapping</th>\n",
       "    </tr>\n",
       "  </thead>\n",
       "  <tbody>\n",
       "    <tr>\n",
       "      <th>0</th>\n",
       "      <td>development-1</td>\n",
       "      <td>Zoe Telford -- played the police officer girlf...</td>\n",
       "      <td>her</td>\n",
       "      <td>274</td>\n",
       "      <td>Cheryl Cassidy</td>\n",
       "      <td>191</td>\n",
       "      <td>True</td>\n",
       "      <td>Pauline</td>\n",
       "      <td>207</td>\n",
       "      <td>False</td>\n",
       "      <td>http://en.wikipedia.org/wiki/List_of_Teachers_...</td>\n",
       "      <td>74</td>\n",
       "      <td>61</td>\n",
       "      <td>426</td>\n",
       "      <td>29</td>\n",
       "      <td>14</td>\n",
       "      <td>0</td>\n",
       "      <td>5</td>\n",
       "      <td>1</td>\n",
       "      <td>0</td>\n",
       "    </tr>\n",
       "    <tr>\n",
       "      <th>1</th>\n",
       "      <td>development-2</td>\n",
       "      <td>He grew up in Evanston, Illinois the second ol...</td>\n",
       "      <td>His</td>\n",
       "      <td>284</td>\n",
       "      <td>MacKenzie</td>\n",
       "      <td>228</td>\n",
       "      <td>True</td>\n",
       "      <td>Bernard Leach</td>\n",
       "      <td>251</td>\n",
       "      <td>False</td>\n",
       "      <td>http://en.wikipedia.org/wiki/Warren_MacKenzie</td>\n",
       "      <td>65</td>\n",
       "      <td>58</td>\n",
       "      <td>410</td>\n",
       "      <td>22</td>\n",
       "      <td>12</td>\n",
       "      <td>0</td>\n",
       "      <td>2</td>\n",
       "      <td>1</td>\n",
       "      <td>0</td>\n",
       "    </tr>\n",
       "    <tr>\n",
       "      <th>2</th>\n",
       "      <td>development-3</td>\n",
       "      <td>He had been reelected to Congress, but resigne...</td>\n",
       "      <td>his</td>\n",
       "      <td>265</td>\n",
       "      <td>Angeloz</td>\n",
       "      <td>173</td>\n",
       "      <td>False</td>\n",
       "      <td>De la Sota</td>\n",
       "      <td>246</td>\n",
       "      <td>True</td>\n",
       "      <td>http://en.wikipedia.org/wiki/Jos%C3%A9_Manuel_...</td>\n",
       "      <td>95</td>\n",
       "      <td>71</td>\n",
       "      <td>536</td>\n",
       "      <td>39</td>\n",
       "      <td>16</td>\n",
       "      <td>0</td>\n",
       "      <td>7</td>\n",
       "      <td>0</td>\n",
       "      <td>1</td>\n",
       "    </tr>\n",
       "    <tr>\n",
       "      <th>3</th>\n",
       "      <td>development-4</td>\n",
       "      <td>The current members of Crime have also perform...</td>\n",
       "      <td>his</td>\n",
       "      <td>321</td>\n",
       "      <td>Hell</td>\n",
       "      <td>174</td>\n",
       "      <td>False</td>\n",
       "      <td>Henry Rosenthal</td>\n",
       "      <td>336</td>\n",
       "      <td>True</td>\n",
       "      <td>http://en.wikipedia.org/wiki/Crime_(band)</td>\n",
       "      <td>69</td>\n",
       "      <td>58</td>\n",
       "      <td>401</td>\n",
       "      <td>24</td>\n",
       "      <td>13</td>\n",
       "      <td>1</td>\n",
       "      <td>7</td>\n",
       "      <td>0</td>\n",
       "      <td>1</td>\n",
       "    </tr>\n",
       "    <tr>\n",
       "      <th>4</th>\n",
       "      <td>development-5</td>\n",
       "      <td>Her Santa Fe Opera debut in 2005 was as Nuria ...</td>\n",
       "      <td>She</td>\n",
       "      <td>437</td>\n",
       "      <td>Kitty Oppenheimer</td>\n",
       "      <td>219</td>\n",
       "      <td>False</td>\n",
       "      <td>Rivera</td>\n",
       "      <td>294</td>\n",
       "      <td>True</td>\n",
       "      <td>http://en.wikipedia.org/wiki/Jessica_Rivera</td>\n",
       "      <td>112</td>\n",
       "      <td>80</td>\n",
       "      <td>660</td>\n",
       "      <td>43</td>\n",
       "      <td>18</td>\n",
       "      <td>1</td>\n",
       "      <td>3</td>\n",
       "      <td>0</td>\n",
       "      <td>1</td>\n",
       "    </tr>\n",
       "  </tbody>\n",
       "</table>\n",
       "</div>"
      ],
      "text/plain": [
       "              ID                                               Text Pronoun  \\\n",
       "0  development-1  Zoe Telford -- played the police officer girlf...     her   \n",
       "1  development-2  He grew up in Evanston, Illinois the second ol...     His   \n",
       "2  development-3  He had been reelected to Congress, but resigne...     his   \n",
       "3  development-4  The current members of Crime have also perform...     his   \n",
       "4  development-5  Her Santa Fe Opera debut in 2005 was as Nuria ...     She   \n",
       "\n",
       "   Pronoun-offset                  A  A-offset  A-coref                B  \\\n",
       "0             274     Cheryl Cassidy       191     True          Pauline   \n",
       "1             284          MacKenzie       228     True    Bernard Leach   \n",
       "2             265            Angeloz       173    False       De la Sota   \n",
       "3             321               Hell       174    False  Henry Rosenthal   \n",
       "4             437  Kitty Oppenheimer       219    False           Rivera   \n",
       "\n",
       "   B-offset  B-coref                                                URL  \\\n",
       "0       207    False  http://en.wikipedia.org/wiki/List_of_Teachers_...   \n",
       "1       251    False      http://en.wikipedia.org/wiki/Warren_MacKenzie   \n",
       "2       246     True  http://en.wikipedia.org/wiki/Jos%C3%A9_Manuel_...   \n",
       "3       336     True          http://en.wikipedia.org/wiki/Crime_(band)   \n",
       "4       294     True        http://en.wikipedia.org/wiki/Jessica_Rivera   \n",
       "\n",
       "   Words  Unique  Num_of_char  num_stopwords  punctuations  num_words_upper  \\\n",
       "0     74      61          426             29            14                0   \n",
       "1     65      58          410             22            12                0   \n",
       "2     95      71          536             39            16                0   \n",
       "3     69      58          401             24            13                1   \n",
       "4    112      80          660             43            18                1   \n",
       "\n",
       "   Pronoun_mapping  A_coref_mapping  B_coref_mapping  \n",
       "0                5                1                0  \n",
       "1                2                1                0  \n",
       "2                7                0                1  \n",
       "3                7                0                1  \n",
       "4                3                0                1  "
      ]
     },
     "execution_count": 33,
     "metadata": {},
     "output_type": "execute_result"
    }
   ],
   "source": [
    "data.head(5)"
   ]
  },
  {
   "cell_type": "code",
   "execution_count": 34,
   "metadata": {},
   "outputs": [
    {
     "data": {
      "text/html": [
       "<div>\n",
       "<style scoped>\n",
       "    .dataframe tbody tr th:only-of-type {\n",
       "        vertical-align: middle;\n",
       "    }\n",
       "\n",
       "    .dataframe tbody tr th {\n",
       "        vertical-align: top;\n",
       "    }\n",
       "\n",
       "    .dataframe thead th {\n",
       "        text-align: right;\n",
       "    }\n",
       "</style>\n",
       "<table border=\"1\" class=\"dataframe\">\n",
       "  <thead>\n",
       "    <tr style=\"text-align: right;\">\n",
       "      <th></th>\n",
       "      <th>Words</th>\n",
       "      <th>Unique</th>\n",
       "      <th>Num_of_char</th>\n",
       "      <th>num_stopwords</th>\n",
       "      <th>punctuations</th>\n",
       "      <th>num_words_upper</th>\n",
       "    </tr>\n",
       "  </thead>\n",
       "  <tbody>\n",
       "    <tr>\n",
       "      <th>0</th>\n",
       "      <td>74</td>\n",
       "      <td>61</td>\n",
       "      <td>426</td>\n",
       "      <td>29</td>\n",
       "      <td>14</td>\n",
       "      <td>0</td>\n",
       "    </tr>\n",
       "    <tr>\n",
       "      <th>1</th>\n",
       "      <td>65</td>\n",
       "      <td>58</td>\n",
       "      <td>410</td>\n",
       "      <td>22</td>\n",
       "      <td>12</td>\n",
       "      <td>0</td>\n",
       "    </tr>\n",
       "    <tr>\n",
       "      <th>2</th>\n",
       "      <td>95</td>\n",
       "      <td>71</td>\n",
       "      <td>536</td>\n",
       "      <td>39</td>\n",
       "      <td>16</td>\n",
       "      <td>0</td>\n",
       "    </tr>\n",
       "    <tr>\n",
       "      <th>3</th>\n",
       "      <td>69</td>\n",
       "      <td>58</td>\n",
       "      <td>401</td>\n",
       "      <td>24</td>\n",
       "      <td>13</td>\n",
       "      <td>1</td>\n",
       "    </tr>\n",
       "    <tr>\n",
       "      <th>4</th>\n",
       "      <td>112</td>\n",
       "      <td>80</td>\n",
       "      <td>660</td>\n",
       "      <td>43</td>\n",
       "      <td>18</td>\n",
       "      <td>1</td>\n",
       "    </tr>\n",
       "    <tr>\n",
       "      <th>5</th>\n",
       "      <td>81</td>\n",
       "      <td>64</td>\n",
       "      <td>488</td>\n",
       "      <td>31</td>\n",
       "      <td>13</td>\n",
       "      <td>4</td>\n",
       "    </tr>\n",
       "    <tr>\n",
       "      <th>6</th>\n",
       "      <td>72</td>\n",
       "      <td>48</td>\n",
       "      <td>432</td>\n",
       "      <td>27</td>\n",
       "      <td>11</td>\n",
       "      <td>0</td>\n",
       "    </tr>\n",
       "    <tr>\n",
       "      <th>7</th>\n",
       "      <td>71</td>\n",
       "      <td>60</td>\n",
       "      <td>451</td>\n",
       "      <td>26</td>\n",
       "      <td>21</td>\n",
       "      <td>0</td>\n",
       "    </tr>\n",
       "    <tr>\n",
       "      <th>8</th>\n",
       "      <td>53</td>\n",
       "      <td>42</td>\n",
       "      <td>302</td>\n",
       "      <td>23</td>\n",
       "      <td>13</td>\n",
       "      <td>0</td>\n",
       "    </tr>\n",
       "    <tr>\n",
       "      <th>9</th>\n",
       "      <td>52</td>\n",
       "      <td>45</td>\n",
       "      <td>381</td>\n",
       "      <td>16</td>\n",
       "      <td>14</td>\n",
       "      <td>4</td>\n",
       "    </tr>\n",
       "    <tr>\n",
       "      <th>10</th>\n",
       "      <td>66</td>\n",
       "      <td>58</td>\n",
       "      <td>448</td>\n",
       "      <td>18</td>\n",
       "      <td>9</td>\n",
       "      <td>0</td>\n",
       "    </tr>\n",
       "    <tr>\n",
       "      <th>11</th>\n",
       "      <td>60</td>\n",
       "      <td>40</td>\n",
       "      <td>397</td>\n",
       "      <td>21</td>\n",
       "      <td>10</td>\n",
       "      <td>0</td>\n",
       "    </tr>\n",
       "    <tr>\n",
       "      <th>12</th>\n",
       "      <td>52</td>\n",
       "      <td>42</td>\n",
       "      <td>329</td>\n",
       "      <td>19</td>\n",
       "      <td>13</td>\n",
       "      <td>0</td>\n",
       "    </tr>\n",
       "    <tr>\n",
       "      <th>13</th>\n",
       "      <td>63</td>\n",
       "      <td>53</td>\n",
       "      <td>396</td>\n",
       "      <td>22</td>\n",
       "      <td>7</td>\n",
       "      <td>2</td>\n",
       "    </tr>\n",
       "    <tr>\n",
       "      <th>14</th>\n",
       "      <td>59</td>\n",
       "      <td>47</td>\n",
       "      <td>350</td>\n",
       "      <td>20</td>\n",
       "      <td>12</td>\n",
       "      <td>0</td>\n",
       "    </tr>\n",
       "    <tr>\n",
       "      <th>15</th>\n",
       "      <td>61</td>\n",
       "      <td>52</td>\n",
       "      <td>379</td>\n",
       "      <td>23</td>\n",
       "      <td>14</td>\n",
       "      <td>3</td>\n",
       "    </tr>\n",
       "    <tr>\n",
       "      <th>16</th>\n",
       "      <td>74</td>\n",
       "      <td>60</td>\n",
       "      <td>454</td>\n",
       "      <td>30</td>\n",
       "      <td>17</td>\n",
       "      <td>0</td>\n",
       "    </tr>\n",
       "    <tr>\n",
       "      <th>17</th>\n",
       "      <td>74</td>\n",
       "      <td>58</td>\n",
       "      <td>436</td>\n",
       "      <td>29</td>\n",
       "      <td>10</td>\n",
       "      <td>0</td>\n",
       "    </tr>\n",
       "    <tr>\n",
       "      <th>18</th>\n",
       "      <td>67</td>\n",
       "      <td>54</td>\n",
       "      <td>359</td>\n",
       "      <td>34</td>\n",
       "      <td>6</td>\n",
       "      <td>0</td>\n",
       "    </tr>\n",
       "    <tr>\n",
       "      <th>19</th>\n",
       "      <td>100</td>\n",
       "      <td>78</td>\n",
       "      <td>586</td>\n",
       "      <td>38</td>\n",
       "      <td>18</td>\n",
       "      <td>1</td>\n",
       "    </tr>\n",
       "    <tr>\n",
       "      <th>20</th>\n",
       "      <td>57</td>\n",
       "      <td>47</td>\n",
       "      <td>320</td>\n",
       "      <td>23</td>\n",
       "      <td>5</td>\n",
       "      <td>0</td>\n",
       "    </tr>\n",
       "    <tr>\n",
       "      <th>21</th>\n",
       "      <td>70</td>\n",
       "      <td>56</td>\n",
       "      <td>426</td>\n",
       "      <td>24</td>\n",
       "      <td>7</td>\n",
       "      <td>0</td>\n",
       "    </tr>\n",
       "    <tr>\n",
       "      <th>22</th>\n",
       "      <td>91</td>\n",
       "      <td>68</td>\n",
       "      <td>540</td>\n",
       "      <td>39</td>\n",
       "      <td>7</td>\n",
       "      <td>1</td>\n",
       "    </tr>\n",
       "    <tr>\n",
       "      <th>23</th>\n",
       "      <td>75</td>\n",
       "      <td>62</td>\n",
       "      <td>481</td>\n",
       "      <td>26</td>\n",
       "      <td>14</td>\n",
       "      <td>0</td>\n",
       "    </tr>\n",
       "    <tr>\n",
       "      <th>24</th>\n",
       "      <td>51</td>\n",
       "      <td>47</td>\n",
       "      <td>333</td>\n",
       "      <td>15</td>\n",
       "      <td>15</td>\n",
       "      <td>1</td>\n",
       "    </tr>\n",
       "    <tr>\n",
       "      <th>25</th>\n",
       "      <td>55</td>\n",
       "      <td>50</td>\n",
       "      <td>363</td>\n",
       "      <td>21</td>\n",
       "      <td>14</td>\n",
       "      <td>0</td>\n",
       "    </tr>\n",
       "    <tr>\n",
       "      <th>26</th>\n",
       "      <td>81</td>\n",
       "      <td>61</td>\n",
       "      <td>490</td>\n",
       "      <td>35</td>\n",
       "      <td>15</td>\n",
       "      <td>0</td>\n",
       "    </tr>\n",
       "    <tr>\n",
       "      <th>27</th>\n",
       "      <td>54</td>\n",
       "      <td>47</td>\n",
       "      <td>290</td>\n",
       "      <td>23</td>\n",
       "      <td>6</td>\n",
       "      <td>1</td>\n",
       "    </tr>\n",
       "    <tr>\n",
       "      <th>28</th>\n",
       "      <td>52</td>\n",
       "      <td>46</td>\n",
       "      <td>263</td>\n",
       "      <td>21</td>\n",
       "      <td>6</td>\n",
       "      <td>1</td>\n",
       "    </tr>\n",
       "    <tr>\n",
       "      <th>29</th>\n",
       "      <td>52</td>\n",
       "      <td>44</td>\n",
       "      <td>323</td>\n",
       "      <td>17</td>\n",
       "      <td>7</td>\n",
       "      <td>1</td>\n",
       "    </tr>\n",
       "    <tr>\n",
       "      <th>...</th>\n",
       "      <td>...</td>\n",
       "      <td>...</td>\n",
       "      <td>...</td>\n",
       "      <td>...</td>\n",
       "      <td>...</td>\n",
       "      <td>...</td>\n",
       "    </tr>\n",
       "    <tr>\n",
       "      <th>1970</th>\n",
       "      <td>66</td>\n",
       "      <td>50</td>\n",
       "      <td>385</td>\n",
       "      <td>27</td>\n",
       "      <td>8</td>\n",
       "      <td>0</td>\n",
       "    </tr>\n",
       "    <tr>\n",
       "      <th>1971</th>\n",
       "      <td>62</td>\n",
       "      <td>51</td>\n",
       "      <td>348</td>\n",
       "      <td>23</td>\n",
       "      <td>9</td>\n",
       "      <td>0</td>\n",
       "    </tr>\n",
       "    <tr>\n",
       "      <th>1972</th>\n",
       "      <td>87</td>\n",
       "      <td>64</td>\n",
       "      <td>488</td>\n",
       "      <td>42</td>\n",
       "      <td>14</td>\n",
       "      <td>0</td>\n",
       "    </tr>\n",
       "    <tr>\n",
       "      <th>1973</th>\n",
       "      <td>38</td>\n",
       "      <td>35</td>\n",
       "      <td>243</td>\n",
       "      <td>13</td>\n",
       "      <td>10</td>\n",
       "      <td>0</td>\n",
       "    </tr>\n",
       "    <tr>\n",
       "      <th>1974</th>\n",
       "      <td>83</td>\n",
       "      <td>62</td>\n",
       "      <td>507</td>\n",
       "      <td>33</td>\n",
       "      <td>15</td>\n",
       "      <td>0</td>\n",
       "    </tr>\n",
       "    <tr>\n",
       "      <th>1975</th>\n",
       "      <td>65</td>\n",
       "      <td>54</td>\n",
       "      <td>366</td>\n",
       "      <td>26</td>\n",
       "      <td>14</td>\n",
       "      <td>0</td>\n",
       "    </tr>\n",
       "    <tr>\n",
       "      <th>1976</th>\n",
       "      <td>61</td>\n",
       "      <td>52</td>\n",
       "      <td>386</td>\n",
       "      <td>30</td>\n",
       "      <td>21</td>\n",
       "      <td>0</td>\n",
       "    </tr>\n",
       "    <tr>\n",
       "      <th>1977</th>\n",
       "      <td>53</td>\n",
       "      <td>42</td>\n",
       "      <td>291</td>\n",
       "      <td>24</td>\n",
       "      <td>5</td>\n",
       "      <td>0</td>\n",
       "    </tr>\n",
       "    <tr>\n",
       "      <th>1978</th>\n",
       "      <td>59</td>\n",
       "      <td>45</td>\n",
       "      <td>335</td>\n",
       "      <td>27</td>\n",
       "      <td>11</td>\n",
       "      <td>0</td>\n",
       "    </tr>\n",
       "    <tr>\n",
       "      <th>1979</th>\n",
       "      <td>116</td>\n",
       "      <td>89</td>\n",
       "      <td>690</td>\n",
       "      <td>40</td>\n",
       "      <td>23</td>\n",
       "      <td>4</td>\n",
       "    </tr>\n",
       "    <tr>\n",
       "      <th>1980</th>\n",
       "      <td>30</td>\n",
       "      <td>28</td>\n",
       "      <td>180</td>\n",
       "      <td>9</td>\n",
       "      <td>7</td>\n",
       "      <td>1</td>\n",
       "    </tr>\n",
       "    <tr>\n",
       "      <th>1981</th>\n",
       "      <td>80</td>\n",
       "      <td>63</td>\n",
       "      <td>490</td>\n",
       "      <td>32</td>\n",
       "      <td>12</td>\n",
       "      <td>2</td>\n",
       "    </tr>\n",
       "    <tr>\n",
       "      <th>1982</th>\n",
       "      <td>70</td>\n",
       "      <td>57</td>\n",
       "      <td>403</td>\n",
       "      <td>24</td>\n",
       "      <td>9</td>\n",
       "      <td>1</td>\n",
       "    </tr>\n",
       "    <tr>\n",
       "      <th>1983</th>\n",
       "      <td>61</td>\n",
       "      <td>47</td>\n",
       "      <td>357</td>\n",
       "      <td>23</td>\n",
       "      <td>4</td>\n",
       "      <td>0</td>\n",
       "    </tr>\n",
       "    <tr>\n",
       "      <th>1984</th>\n",
       "      <td>48</td>\n",
       "      <td>44</td>\n",
       "      <td>299</td>\n",
       "      <td>14</td>\n",
       "      <td>8</td>\n",
       "      <td>0</td>\n",
       "    </tr>\n",
       "    <tr>\n",
       "      <th>1985</th>\n",
       "      <td>54</td>\n",
       "      <td>48</td>\n",
       "      <td>285</td>\n",
       "      <td>18</td>\n",
       "      <td>16</td>\n",
       "      <td>1</td>\n",
       "    </tr>\n",
       "    <tr>\n",
       "      <th>1986</th>\n",
       "      <td>44</td>\n",
       "      <td>36</td>\n",
       "      <td>263</td>\n",
       "      <td>18</td>\n",
       "      <td>7</td>\n",
       "      <td>1</td>\n",
       "    </tr>\n",
       "    <tr>\n",
       "      <th>1987</th>\n",
       "      <td>45</td>\n",
       "      <td>37</td>\n",
       "      <td>262</td>\n",
       "      <td>22</td>\n",
       "      <td>2</td>\n",
       "      <td>0</td>\n",
       "    </tr>\n",
       "    <tr>\n",
       "      <th>1988</th>\n",
       "      <td>16</td>\n",
       "      <td>16</td>\n",
       "      <td>104</td>\n",
       "      <td>5</td>\n",
       "      <td>6</td>\n",
       "      <td>0</td>\n",
       "    </tr>\n",
       "    <tr>\n",
       "      <th>1989</th>\n",
       "      <td>67</td>\n",
       "      <td>55</td>\n",
       "      <td>426</td>\n",
       "      <td>22</td>\n",
       "      <td>7</td>\n",
       "      <td>0</td>\n",
       "    </tr>\n",
       "    <tr>\n",
       "      <th>1990</th>\n",
       "      <td>62</td>\n",
       "      <td>52</td>\n",
       "      <td>339</td>\n",
       "      <td>31</td>\n",
       "      <td>18</td>\n",
       "      <td>2</td>\n",
       "    </tr>\n",
       "    <tr>\n",
       "      <th>1991</th>\n",
       "      <td>59</td>\n",
       "      <td>47</td>\n",
       "      <td>341</td>\n",
       "      <td>25</td>\n",
       "      <td>5</td>\n",
       "      <td>0</td>\n",
       "    </tr>\n",
       "    <tr>\n",
       "      <th>1992</th>\n",
       "      <td>86</td>\n",
       "      <td>67</td>\n",
       "      <td>497</td>\n",
       "      <td>41</td>\n",
       "      <td>8</td>\n",
       "      <td>0</td>\n",
       "    </tr>\n",
       "    <tr>\n",
       "      <th>1993</th>\n",
       "      <td>65</td>\n",
       "      <td>54</td>\n",
       "      <td>427</td>\n",
       "      <td>30</td>\n",
       "      <td>13</td>\n",
       "      <td>0</td>\n",
       "    </tr>\n",
       "    <tr>\n",
       "      <th>1994</th>\n",
       "      <td>41</td>\n",
       "      <td>36</td>\n",
       "      <td>261</td>\n",
       "      <td>15</td>\n",
       "      <td>12</td>\n",
       "      <td>0</td>\n",
       "    </tr>\n",
       "    <tr>\n",
       "      <th>1995</th>\n",
       "      <td>77</td>\n",
       "      <td>67</td>\n",
       "      <td>482</td>\n",
       "      <td>25</td>\n",
       "      <td>17</td>\n",
       "      <td>0</td>\n",
       "    </tr>\n",
       "    <tr>\n",
       "      <th>1996</th>\n",
       "      <td>42</td>\n",
       "      <td>36</td>\n",
       "      <td>267</td>\n",
       "      <td>17</td>\n",
       "      <td>13</td>\n",
       "      <td>0</td>\n",
       "    </tr>\n",
       "    <tr>\n",
       "      <th>1997</th>\n",
       "      <td>70</td>\n",
       "      <td>61</td>\n",
       "      <td>434</td>\n",
       "      <td>24</td>\n",
       "      <td>24</td>\n",
       "      <td>0</td>\n",
       "    </tr>\n",
       "    <tr>\n",
       "      <th>1998</th>\n",
       "      <td>60</td>\n",
       "      <td>50</td>\n",
       "      <td>383</td>\n",
       "      <td>21</td>\n",
       "      <td>16</td>\n",
       "      <td>0</td>\n",
       "    </tr>\n",
       "    <tr>\n",
       "      <th>1999</th>\n",
       "      <td>74</td>\n",
       "      <td>56</td>\n",
       "      <td>416</td>\n",
       "      <td>34</td>\n",
       "      <td>13</td>\n",
       "      <td>0</td>\n",
       "    </tr>\n",
       "  </tbody>\n",
       "</table>\n",
       "<p>2000 rows × 6 columns</p>\n",
       "</div>"
      ],
      "text/plain": [
       "      Words  Unique  Num_of_char  num_stopwords  punctuations  num_words_upper\n",
       "0        74      61          426             29            14                0\n",
       "1        65      58          410             22            12                0\n",
       "2        95      71          536             39            16                0\n",
       "3        69      58          401             24            13                1\n",
       "4       112      80          660             43            18                1\n",
       "5        81      64          488             31            13                4\n",
       "6        72      48          432             27            11                0\n",
       "7        71      60          451             26            21                0\n",
       "8        53      42          302             23            13                0\n",
       "9        52      45          381             16            14                4\n",
       "10       66      58          448             18             9                0\n",
       "11       60      40          397             21            10                0\n",
       "12       52      42          329             19            13                0\n",
       "13       63      53          396             22             7                2\n",
       "14       59      47          350             20            12                0\n",
       "15       61      52          379             23            14                3\n",
       "16       74      60          454             30            17                0\n",
       "17       74      58          436             29            10                0\n",
       "18       67      54          359             34             6                0\n",
       "19      100      78          586             38            18                1\n",
       "20       57      47          320             23             5                0\n",
       "21       70      56          426             24             7                0\n",
       "22       91      68          540             39             7                1\n",
       "23       75      62          481             26            14                0\n",
       "24       51      47          333             15            15                1\n",
       "25       55      50          363             21            14                0\n",
       "26       81      61          490             35            15                0\n",
       "27       54      47          290             23             6                1\n",
       "28       52      46          263             21             6                1\n",
       "29       52      44          323             17             7                1\n",
       "...     ...     ...          ...            ...           ...              ...\n",
       "1970     66      50          385             27             8                0\n",
       "1971     62      51          348             23             9                0\n",
       "1972     87      64          488             42            14                0\n",
       "1973     38      35          243             13            10                0\n",
       "1974     83      62          507             33            15                0\n",
       "1975     65      54          366             26            14                0\n",
       "1976     61      52          386             30            21                0\n",
       "1977     53      42          291             24             5                0\n",
       "1978     59      45          335             27            11                0\n",
       "1979    116      89          690             40            23                4\n",
       "1980     30      28          180              9             7                1\n",
       "1981     80      63          490             32            12                2\n",
       "1982     70      57          403             24             9                1\n",
       "1983     61      47          357             23             4                0\n",
       "1984     48      44          299             14             8                0\n",
       "1985     54      48          285             18            16                1\n",
       "1986     44      36          263             18             7                1\n",
       "1987     45      37          262             22             2                0\n",
       "1988     16      16          104              5             6                0\n",
       "1989     67      55          426             22             7                0\n",
       "1990     62      52          339             31            18                2\n",
       "1991     59      47          341             25             5                0\n",
       "1992     86      67          497             41             8                0\n",
       "1993     65      54          427             30            13                0\n",
       "1994     41      36          261             15            12                0\n",
       "1995     77      67          482             25            17                0\n",
       "1996     42      36          267             17            13                0\n",
       "1997     70      61          434             24            24                0\n",
       "1998     60      50          383             21            16                0\n",
       "1999     74      56          416             34            13                0\n",
       "\n",
       "[2000 rows x 6 columns]"
      ]
     },
     "execution_count": 34,
     "metadata": {},
     "output_type": "execute_result"
    }
   ],
   "source": [
    "x=data.iloc[:,11:17]\n",
    "x"
   ]
  },
  {
   "cell_type": "code",
   "execution_count": 35,
   "metadata": {},
   "outputs": [
    {
     "data": {
      "text/plain": [
       "0       5\n",
       "1       2\n",
       "2       7\n",
       "3       7\n",
       "4       3\n",
       "5       3\n",
       "6       7\n",
       "7       7\n",
       "8       5\n",
       "9       8\n",
       "10      7\n",
       "11      3\n",
       "12      5\n",
       "13      7\n",
       "14      5\n",
       "15      8\n",
       "16      6\n",
       "17      7\n",
       "18      6\n",
       "19      7\n",
       "20      0\n",
       "21      7\n",
       "22      7\n",
       "23      5\n",
       "24      5\n",
       "25      7\n",
       "26      5\n",
       "27      7\n",
       "28      6\n",
       "29      7\n",
       "       ..\n",
       "1970    5\n",
       "1971    3\n",
       "1972    5\n",
       "1973    5\n",
       "1974    8\n",
       "1975    3\n",
       "1976    5\n",
       "1977    5\n",
       "1978    8\n",
       "1979    8\n",
       "1980    3\n",
       "1981    5\n",
       "1982    5\n",
       "1983    8\n",
       "1984    5\n",
       "1985    3\n",
       "1986    5\n",
       "1987    5\n",
       "1988    5\n",
       "1989    5\n",
       "1990    5\n",
       "1991    8\n",
       "1992    5\n",
       "1993    5\n",
       "1994    5\n",
       "1995    5\n",
       "1996    5\n",
       "1997    8\n",
       "1998    3\n",
       "1999    5\n",
       "Name: Pronoun_mapping, Length: 2000, dtype: int64"
      ]
     },
     "execution_count": 35,
     "metadata": {},
     "output_type": "execute_result"
    }
   ],
   "source": [
    "y=data['Pronoun_mapping']\n",
    "y"
   ]
  },
  {
   "cell_type": "code",
   "execution_count": 36,
   "metadata": {},
   "outputs": [
    {
     "data": {
      "text/plain": [
       "(2000, 6)"
      ]
     },
     "execution_count": 36,
     "metadata": {},
     "output_type": "execute_result"
    }
   ],
   "source": [
    "x.shape"
   ]
  },
  {
   "cell_type": "code",
   "execution_count": 37,
   "metadata": {},
   "outputs": [
    {
     "data": {
      "text/plain": [
       "(2000,)"
      ]
     },
     "execution_count": 37,
     "metadata": {},
     "output_type": "execute_result"
    }
   ],
   "source": [
    "y.shape"
   ]
  },
  {
   "cell_type": "code",
   "execution_count": 38,
   "metadata": {},
   "outputs": [
    {
     "name": "stdout",
     "output_type": "stream",
     "text": [
      "[0 1 2 3 4 5 6 7 8]\n"
     ]
    }
   ],
   "source": [
    "import numpy as np\n",
    "print(np.unique(y))"
   ]
  },
  {
   "cell_type": "markdown",
   "metadata": {},
   "source": [
    "# Data visualization"
   ]
  },
  {
   "cell_type": "code",
   "execution_count": 39,
   "metadata": {},
   "outputs": [],
   "source": [
    "sns.set_style('whitegrid')\n"
   ]
  },
  {
   "cell_type": "code",
   "execution_count": 40,
   "metadata": {},
   "outputs": [
    {
     "data": {
      "image/png": "[encoded data removed]",
      "text/plain": [
       "<Figure size 1008x576 with 2 Axes>"
      ]
     },
     "metadata": {},
     "output_type": "display_data"
    }
   ],
   "source": [
    "plt.figure(figsize=(14,8))\n",
    "sns.heatmap(data.corr(), annot = True, cmap='coolwarm',linewidths=.1)\n",
    "plt.show()"
   ]
  },
  {
   "cell_type": "code",
   "execution_count": 41,
   "metadata": {},
   "outputs": [
    {
     "data": {
      "text/plain": [
       "<matplotlib.axes._subplots.AxesSubplot at 0x7faf72f6c668>"
      ]
     },
     "execution_count": 41,
     "metadata": {},
     "output_type": "execute_result"
    },
    {
     "data": {
      "image/png": "[encoded data removed]",
      "text/plain": [
       "<Figure size 432x288 with 1 Axes>"
      ]
     },
     "metadata": {},
     "output_type": "display_data"
    }
   ],
   "source": [
    "sns.distplot(data['A-offset'],kde=False,bins=30,color='violet')"
   ]
  },
  {
   "cell_type": "code",
   "execution_count": null,
   "metadata": {},
   "outputs": [],
   "source": []
  },
  {
   "cell_type": "code",
   "execution_count": 42,
   "metadata": {},
   "outputs": [
    {
     "data": {
      "image/png": "[encoded data removed]",
      "text/plain": [
       "<Figure size 432x288 with 1 Axes>"
      ]
     },
     "metadata": {},
     "output_type": "display_data"
    }
   ],
   "source": [
    "\n",
    "sns.distplot(data['B-offset'],kde=False,bins=30,color='red')\n",
    "plt.show()\n"
   ]
  },
  {
   "cell_type": "code",
   "execution_count": 43,
   "metadata": {},
   "outputs": [
    {
     "data": {
      "image/png": "[encoded data removed]",
      "text/plain": [
       "<Figure size 432x288 with 1 Axes>"
      ]
     },
     "metadata": {},
     "output_type": "display_data"
    }
   ],
   "source": [
    "sns.distplot(data['num_stopwords'],kde=False,bins=30,color='blue')\n",
    "plt.show()"
   ]
  },
  {
   "cell_type": "code",
   "execution_count": 44,
   "metadata": {},
   "outputs": [
    {
     "data": {
      "image/png": "[encoded data removed]",
      "text/plain": [
       "<Figure size 360x360 with 1 Axes>"
      ]
     },
     "metadata": {},
     "output_type": "display_data"
    }
   ],
   "source": [
    "sns.catplot(x=\"Pronoun-offset\", y=\"A-offset\",kind='swarm',data=data);"
   ]
  },
  {
   "cell_type": "code",
   "execution_count": 45,
   "metadata": {},
   "outputs": [
    {
     "name": "stderr",
     "output_type": "stream",
     "text": [
      "/home/vikas/anaconda3/lib/python3.7/site-packages/scipy/stats/stats.py:1713: FutureWarning: Using a non-tuple sequence for multidimensional indexing is deprecated; use `arr[tuple(seq)]` instead of `arr[seq]`. In the future this will be interpreted as an array index, `arr[np.array(seq)]`, which will result either in an error or a different result.\n",
      "  return np.add.reduce(sorted[indexer] * weights, axis=axis) / sumval\n"
     ]
    },
    {
     "data": {
      "text/plain": [
       "<seaborn.axisgrid.JointGrid at 0x7faf74a506a0>"
      ]
     },
     "execution_count": 45,
     "metadata": {},
     "output_type": "execute_result"
    },
    {
     "data": {
      "image/png": "[encoded data removed]",
      "text/plain": [
       "<Figure size 432x432 with 3 Axes>"
      ]
     },
     "metadata": {},
     "output_type": "display_data"
    }
   ],
   "source": [
    "sns.jointplot(x='Pronoun-offset',y='B-offset' ,data=data, kind='reg')"
   ]
  },
  {
   "cell_type": "markdown",
   "metadata": {},
   "source": [
    "#  Prediction:"
   ]
  },
  {
   "cell_type": "code",
   "execution_count": 46,
   "metadata": {},
   "outputs": [],
   "source": [
    "from nltk.corpus import names\n",
    "names = ([(name, 'male') for name in names.words('male.txt')] + [(name, 'female') for name in names.words('female.txt')])"
   ]
  },
  {
   "cell_type": "code",
   "execution_count": 47,
   "metadata": {},
   "outputs": [
    {
     "data": {
      "text/plain": [
       "[('Zorana', 'female'), ('Zorina', 'female'), ('Zorine', 'female')]"
      ]
     },
     "execution_count": 47,
     "metadata": {},
     "output_type": "execute_result"
    }
   ],
   "source": [
    "[(u'Aaron', 'male'), (u'Abbey', 'male'), (u'Abbie', 'male')]\n",
    "[(u'Zorana', 'female'), (u'Zorina', 'female'), (u'Zorine', 'female')]"
   ]
  },
  {
   "cell_type": "code",
   "execution_count": 48,
   "metadata": {},
   "outputs": [],
   "source": [
    "def gender_features(word): \n",
    "    return {'last_letter': word[-1]}"
   ]
  },
  {
   "cell_type": "code",
   "execution_count": 49,
   "metadata": {},
   "outputs": [
    {
     "name": "stdout",
     "output_type": "stream",
     "text": [
      "male\n"
     ]
    }
   ],
   "source": [
    "import nltk.classify.util\n",
    "from nltk.classify import NaiveBayesClassifier\n",
    "from nltk.corpus import names\n",
    " \n",
    "def gender_features(word): \n",
    "    return {'last_letter': word[-1]} \n",
    " \n",
    "names = ([(name, 'male') for name in names.words('male.txt')] + \n",
    "\t [(name, 'female') for name in names.words('female.txt')])\n",
    " \n",
    "featuresets = [(gender_features(n), g) for (n,g) in names] \n",
    "train_set = featuresets\n",
    "classifier = nltk.NaiveBayesClassifier.train(train_set) \n",
    " \n",
    "print(classifier.classify(gender_features('Frank')))"
   ]
  },
  {
   "cell_type": "code",
   "execution_count": 50,
   "metadata": {},
   "outputs": [
    {
     "name": "stdout",
     "output_type": "stream",
     "text": [
      "female\n"
     ]
    }
   ],
   "source": [
    "name = 'Zorana'\n",
    "print(classifier.classify(gender_features(name)))"
   ]
  },
  {
   "cell_type": "markdown",
   "metadata": {},
   "source": [
    "#  Data visualization with PCA, K-PCA, LDA"
   ]
  },
  {
   "cell_type": "code",
   "execution_count": 51,
   "metadata": {},
   "outputs": [
    {
     "data": {
      "image/png": "[encoded data removed]",
      "text/plain": [
       "<Figure size 432x288 with 1 Axes>"
      ]
     },
     "metadata": {},
     "output_type": "display_data"
    }
   ],
   "source": [
    "from sklearn.decomposition import PCA\n",
    "pca=PCA(n_components=2)\n",
    "x_pca=pca.fit_transform(x)\n",
    "plt.scatter(x_pca[y==0,0],x_pca[y==0,1],color='red',marker='^',label='class1')\n",
    "plt.scatter(x_pca[y==1,0],x_pca[y==1,1],color='blue',marker='o',label='class1')\n",
    "plt.legend()\n",
    "plt.title('Gendered datasets')\n",
    "plt.xlabel('PCA1')\n",
    "plt.ylabel('PCA2')\n",
    "plt.show()"
   ]
  },
  {
   "cell_type": "code",
   "execution_count": 52,
   "metadata": {},
   "outputs": [
    {
     "data": {
      "image/png": "[encoded data removed]",
      "text/plain": [
       "<Figure size 432x288 with 1 Axes>"
      ]
     },
     "metadata": {},
     "output_type": "display_data"
    }
   ],
   "source": [
    "from sklearn.decomposition import KernelPCA\n",
    "kpca=KernelPCA(n_components=2,kernel='rbf',gamma=20)\n",
    "x_kpca=kpca.fit_transform(x)\n",
    "plt.scatter(x_kpca[y==0,0],x_kpca[y==0,1],color='red',marker='^',label='class1')\n",
    "plt.scatter(x_kpca[y==1,0],x_kpca[y==1,1],color='blue',marker='o',label='class1')\n",
    "plt.legend()\n",
    "plt.title('Gendered datasets with K-PCA')\n",
    "plt.xlabel('PCA1')\n",
    "plt.ylabel('PCA2')\n",
    "plt.show()"
   ]
  },
  {
   "cell_type": "code",
   "execution_count": 53,
   "metadata": {},
   "outputs": [
    {
     "data": {
      "image/png": "[encoded data removed]",
      "text/plain": [
       "<Figure size 432x288 with 1 Axes>"
      ]
     },
     "metadata": {},
     "output_type": "display_data"
    }
   ],
   "source": [
    "from sklearn.discriminant_analysis import LinearDiscriminantAnalysis as LDA\n",
    "lda=LDA(n_components=2)\n",
    "x_lda=lda.fit_transform(x,y)\n",
    "plt.scatter(x_lda[y==0],x_lda[y==0],color='red',marker='^',label='class1')\n",
    "plt.scatter(x_lda[y==1],x_lda[y==1],color='blue',marker='o',label='class1')\n",
    "plt.legend()\n",
    "plt.title('Gendered datasets with LDA')\n",
    "plt.xlabel('LDA1')\n",
    "plt.ylabel('LDA2')\n",
    "plt.show()"
   ]
  },
  {
   "cell_type": "code",
   "execution_count": null,
   "metadata": {},
   "outputs": [],
   "source": []
  },
  {
   "cell_type": "code",
   "execution_count": null,
   "metadata": {},
   "outputs": [],
   "source": []
  }
 ],
 "metadata": {
  "kernelspec": {
   "display_name": "Python 3",
   "language": "python",
   "name": "python3"
  },
  "language_info": {
   "codemirror_mode": {
    "name": "ipython",
    "version": 3
   },
   "file_extension": ".py",
   "mimetype": "text/x-python",
   "name": "python",
   "nbconvert_exporter": "python",
   "pygments_lexer": "ipython3",
   "version": "3.7.1"
  }
 },
 "nbformat": 4,
 "nbformat_minor": 2
}
