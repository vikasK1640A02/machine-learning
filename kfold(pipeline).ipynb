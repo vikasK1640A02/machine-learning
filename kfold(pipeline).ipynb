{
 "cells": [
  {
   "cell_type": "code",
   "execution_count": 1,
   "metadata": {},
   "outputs": [
    {
     "data": {
      "text/plain": [
       "'/home/vikas'"
      ]
     },
     "execution_count": 1,
     "metadata": {},
     "output_type": "execute_result"
    }
   ],
   "source": [
    "pwd"
   ]
  },
  {
   "cell_type": "code",
   "execution_count": 2,
   "metadata": {},
   "outputs": [
    {
     "name": "stdout",
     "output_type": "stream",
     "text": [
      "/home/vikas/Documents/datasets\n"
     ]
    }
   ],
   "source": [
    "cd /home/vikas/Documents/datasets"
   ]
  },
  {
   "cell_type": "code",
   "execution_count": 3,
   "metadata": {},
   "outputs": [
    {
     "name": "stdout",
     "output_type": "stream",
     "text": [
      "'A Gentle Introduction to Keras.ipynb'   cancer1.csv   \u001b[0m\u001b[01;34mprgrm\u001b[0m/\r\n",
      " banknote.csv                            data.csv      sample_submission.csv\r\n",
      " BBC.csv                                 data.tsv      v.csv\r\n",
      " BBCN.csv                                heart.csv     wine.csv\r\n"
     ]
    }
   ],
   "source": [
    "ls"
   ]
  },
  {
   "cell_type": "code",
   "execution_count": 4,
   "metadata": {},
   "outputs": [],
   "source": [
    "import pandas as  pd"
   ]
  },
  {
   "cell_type": "code",
   "execution_count": 5,
   "metadata": {},
   "outputs": [],
   "source": [
    "data=pd.read_csv(\"cancer1.csv\")"
   ]
  },
  {
   "cell_type": "code",
   "execution_count": 6,
   "metadata": {},
   "outputs": [
    {
     "data": {
      "text/html": [
       "<div>\n",
       "<style scoped>\n",
       "    .dataframe tbody tr th:only-of-type {\n",
       "        vertical-align: middle;\n",
       "    }\n",
       "\n",
       "    .dataframe tbody tr th {\n",
       "        vertical-align: top;\n",
       "    }\n",
       "\n",
       "    .dataframe thead th {\n",
       "        text-align: right;\n",
       "    }\n",
       "</style>\n",
       "<table border=\"1\" class=\"dataframe\">\n",
       "  <thead>\n",
       "    <tr style=\"text-align: right;\">\n",
       "      <th></th>\n",
       "      <th>842302</th>\n",
       "      <th>M</th>\n",
       "      <th>17.99</th>\n",
       "      <th>10.38</th>\n",
       "      <th>122.8</th>\n",
       "      <th>1001</th>\n",
       "      <th>0.1184</th>\n",
       "      <th>0.2776</th>\n",
       "      <th>0.3001</th>\n",
       "      <th>0.1471</th>\n",
       "      <th>...</th>\n",
       "      <th>25.38</th>\n",
       "      <th>17.33</th>\n",
       "      <th>184.6</th>\n",
       "      <th>2019</th>\n",
       "      <th>0.1622</th>\n",
       "      <th>0.6656</th>\n",
       "      <th>0.7119</th>\n",
       "      <th>0.2654</th>\n",
       "      <th>0.4601</th>\n",
       "      <th>0.1189</th>\n",
       "    </tr>\n",
       "  </thead>\n",
       "  <tbody>\n",
       "    <tr>\n",
       "      <th>0</th>\n",
       "      <td>842517</td>\n",
       "      <td>M</td>\n",
       "      <td>20.57</td>\n",
       "      <td>17.77</td>\n",
       "      <td>132.90</td>\n",
       "      <td>1326.0</td>\n",
       "      <td>0.08474</td>\n",
       "      <td>0.07864</td>\n",
       "      <td>0.08690</td>\n",
       "      <td>0.07017</td>\n",
       "      <td>...</td>\n",
       "      <td>24.99</td>\n",
       "      <td>23.41</td>\n",
       "      <td>158.80</td>\n",
       "      <td>1956.0</td>\n",
       "      <td>0.1238</td>\n",
       "      <td>0.1866</td>\n",
       "      <td>0.2416</td>\n",
       "      <td>0.18600</td>\n",
       "      <td>0.2750</td>\n",
       "      <td>0.08902</td>\n",
       "    </tr>\n",
       "    <tr>\n",
       "      <th>1</th>\n",
       "      <td>84300903</td>\n",
       "      <td>M</td>\n",
       "      <td>19.69</td>\n",
       "      <td>21.25</td>\n",
       "      <td>130.00</td>\n",
       "      <td>1203.0</td>\n",
       "      <td>0.10960</td>\n",
       "      <td>0.15990</td>\n",
       "      <td>0.19740</td>\n",
       "      <td>0.12790</td>\n",
       "      <td>...</td>\n",
       "      <td>23.57</td>\n",
       "      <td>25.53</td>\n",
       "      <td>152.50</td>\n",
       "      <td>1709.0</td>\n",
       "      <td>0.1444</td>\n",
       "      <td>0.4245</td>\n",
       "      <td>0.4504</td>\n",
       "      <td>0.24300</td>\n",
       "      <td>0.3613</td>\n",
       "      <td>0.08758</td>\n",
       "    </tr>\n",
       "    <tr>\n",
       "      <th>2</th>\n",
       "      <td>84348301</td>\n",
       "      <td>M</td>\n",
       "      <td>11.42</td>\n",
       "      <td>20.38</td>\n",
       "      <td>77.58</td>\n",
       "      <td>386.1</td>\n",
       "      <td>0.14250</td>\n",
       "      <td>0.28390</td>\n",
       "      <td>0.24140</td>\n",
       "      <td>0.10520</td>\n",
       "      <td>...</td>\n",
       "      <td>14.91</td>\n",
       "      <td>26.50</td>\n",
       "      <td>98.87</td>\n",
       "      <td>567.7</td>\n",
       "      <td>0.2098</td>\n",
       "      <td>0.8663</td>\n",
       "      <td>0.6869</td>\n",
       "      <td>0.25750</td>\n",
       "      <td>0.6638</td>\n",
       "      <td>0.17300</td>\n",
       "    </tr>\n",
       "    <tr>\n",
       "      <th>3</th>\n",
       "      <td>84358402</td>\n",
       "      <td>M</td>\n",
       "      <td>20.29</td>\n",
       "      <td>14.34</td>\n",
       "      <td>135.10</td>\n",
       "      <td>1297.0</td>\n",
       "      <td>0.10030</td>\n",
       "      <td>0.13280</td>\n",
       "      <td>0.19800</td>\n",
       "      <td>0.10430</td>\n",
       "      <td>...</td>\n",
       "      <td>22.54</td>\n",
       "      <td>16.67</td>\n",
       "      <td>152.20</td>\n",
       "      <td>1575.0</td>\n",
       "      <td>0.1374</td>\n",
       "      <td>0.2050</td>\n",
       "      <td>0.4000</td>\n",
       "      <td>0.16250</td>\n",
       "      <td>0.2364</td>\n",
       "      <td>0.07678</td>\n",
       "    </tr>\n",
       "    <tr>\n",
       "      <th>4</th>\n",
       "      <td>843786</td>\n",
       "      <td>M</td>\n",
       "      <td>12.45</td>\n",
       "      <td>15.70</td>\n",
       "      <td>82.57</td>\n",
       "      <td>477.1</td>\n",
       "      <td>0.12780</td>\n",
       "      <td>0.17000</td>\n",
       "      <td>0.15780</td>\n",
       "      <td>0.08089</td>\n",
       "      <td>...</td>\n",
       "      <td>15.47</td>\n",
       "      <td>23.75</td>\n",
       "      <td>103.40</td>\n",
       "      <td>741.6</td>\n",
       "      <td>0.1791</td>\n",
       "      <td>0.5249</td>\n",
       "      <td>0.5355</td>\n",
       "      <td>0.17410</td>\n",
       "      <td>0.3985</td>\n",
       "      <td>0.12440</td>\n",
       "    </tr>\n",
       "    <tr>\n",
       "      <th>5</th>\n",
       "      <td>844359</td>\n",
       "      <td>M</td>\n",
       "      <td>18.25</td>\n",
       "      <td>19.98</td>\n",
       "      <td>119.60</td>\n",
       "      <td>1040.0</td>\n",
       "      <td>0.09463</td>\n",
       "      <td>0.10900</td>\n",
       "      <td>0.11270</td>\n",
       "      <td>0.07400</td>\n",
       "      <td>...</td>\n",
       "      <td>22.88</td>\n",
       "      <td>27.66</td>\n",
       "      <td>153.20</td>\n",
       "      <td>1606.0</td>\n",
       "      <td>0.1442</td>\n",
       "      <td>0.2576</td>\n",
       "      <td>0.3784</td>\n",
       "      <td>0.19320</td>\n",
       "      <td>0.3063</td>\n",
       "      <td>0.08368</td>\n",
       "    </tr>\n",
       "    <tr>\n",
       "      <th>6</th>\n",
       "      <td>84458202</td>\n",
       "      <td>M</td>\n",
       "      <td>13.71</td>\n",
       "      <td>20.83</td>\n",
       "      <td>90.20</td>\n",
       "      <td>577.9</td>\n",
       "      <td>0.11890</td>\n",
       "      <td>0.16450</td>\n",
       "      <td>0.09366</td>\n",
       "      <td>0.05985</td>\n",
       "      <td>...</td>\n",
       "      <td>17.06</td>\n",
       "      <td>28.14</td>\n",
       "      <td>110.60</td>\n",
       "      <td>897.0</td>\n",
       "      <td>0.1654</td>\n",
       "      <td>0.3682</td>\n",
       "      <td>0.2678</td>\n",
       "      <td>0.15560</td>\n",
       "      <td>0.3196</td>\n",
       "      <td>0.11510</td>\n",
       "    </tr>\n",
       "    <tr>\n",
       "      <th>7</th>\n",
       "      <td>844981</td>\n",
       "      <td>M</td>\n",
       "      <td>13.00</td>\n",
       "      <td>21.82</td>\n",
       "      <td>87.50</td>\n",
       "      <td>519.8</td>\n",
       "      <td>0.12730</td>\n",
       "      <td>0.19320</td>\n",
       "      <td>0.18590</td>\n",
       "      <td>0.09353</td>\n",
       "      <td>...</td>\n",
       "      <td>15.49</td>\n",
       "      <td>30.73</td>\n",
       "      <td>106.20</td>\n",
       "      <td>739.3</td>\n",
       "      <td>0.1703</td>\n",
       "      <td>0.5401</td>\n",
       "      <td>0.5390</td>\n",
       "      <td>0.20600</td>\n",
       "      <td>0.4378</td>\n",
       "      <td>0.10720</td>\n",
       "    </tr>\n",
       "    <tr>\n",
       "      <th>8</th>\n",
       "      <td>84501001</td>\n",
       "      <td>M</td>\n",
       "      <td>12.46</td>\n",
       "      <td>24.04</td>\n",
       "      <td>83.97</td>\n",
       "      <td>475.9</td>\n",
       "      <td>0.11860</td>\n",
       "      <td>0.23960</td>\n",
       "      <td>0.22730</td>\n",
       "      <td>0.08543</td>\n",
       "      <td>...</td>\n",
       "      <td>15.09</td>\n",
       "      <td>40.68</td>\n",
       "      <td>97.65</td>\n",
       "      <td>711.4</td>\n",
       "      <td>0.1853</td>\n",
       "      <td>1.0580</td>\n",
       "      <td>1.1050</td>\n",
       "      <td>0.22100</td>\n",
       "      <td>0.4366</td>\n",
       "      <td>0.20750</td>\n",
       "    </tr>\n",
       "    <tr>\n",
       "      <th>9</th>\n",
       "      <td>845636</td>\n",
       "      <td>M</td>\n",
       "      <td>16.02</td>\n",
       "      <td>23.24</td>\n",
       "      <td>102.70</td>\n",
       "      <td>797.8</td>\n",
       "      <td>0.08206</td>\n",
       "      <td>0.06669</td>\n",
       "      <td>0.03299</td>\n",
       "      <td>0.03323</td>\n",
       "      <td>...</td>\n",
       "      <td>19.19</td>\n",
       "      <td>33.88</td>\n",
       "      <td>123.80</td>\n",
       "      <td>1150.0</td>\n",
       "      <td>0.1181</td>\n",
       "      <td>0.1551</td>\n",
       "      <td>0.1459</td>\n",
       "      <td>0.09975</td>\n",
       "      <td>0.2948</td>\n",
       "      <td>0.08452</td>\n",
       "    </tr>\n",
       "  </tbody>\n",
       "</table>\n",
       "<p>10 rows × 32 columns</p>\n",
       "</div>"
      ],
      "text/plain": [
       "     842302  M  17.99  10.38   122.8    1001   0.1184   0.2776   0.3001  \\\n",
       "0    842517  M  20.57  17.77  132.90  1326.0  0.08474  0.07864  0.08690   \n",
       "1  84300903  M  19.69  21.25  130.00  1203.0  0.10960  0.15990  0.19740   \n",
       "2  84348301  M  11.42  20.38   77.58   386.1  0.14250  0.28390  0.24140   \n",
       "3  84358402  M  20.29  14.34  135.10  1297.0  0.10030  0.13280  0.19800   \n",
       "4    843786  M  12.45  15.70   82.57   477.1  0.12780  0.17000  0.15780   \n",
       "5    844359  M  18.25  19.98  119.60  1040.0  0.09463  0.10900  0.11270   \n",
       "6  84458202  M  13.71  20.83   90.20   577.9  0.11890  0.16450  0.09366   \n",
       "7    844981  M  13.00  21.82   87.50   519.8  0.12730  0.19320  0.18590   \n",
       "8  84501001  M  12.46  24.04   83.97   475.9  0.11860  0.23960  0.22730   \n",
       "9    845636  M  16.02  23.24  102.70   797.8  0.08206  0.06669  0.03299   \n",
       "\n",
       "    0.1471   ...     25.38  17.33   184.6    2019  0.1622  0.6656  0.7119  \\\n",
       "0  0.07017   ...     24.99  23.41  158.80  1956.0  0.1238  0.1866  0.2416   \n",
       "1  0.12790   ...     23.57  25.53  152.50  1709.0  0.1444  0.4245  0.4504   \n",
       "2  0.10520   ...     14.91  26.50   98.87   567.7  0.2098  0.8663  0.6869   \n",
       "3  0.10430   ...     22.54  16.67  152.20  1575.0  0.1374  0.2050  0.4000   \n",
       "4  0.08089   ...     15.47  23.75  103.40   741.6  0.1791  0.5249  0.5355   \n",
       "5  0.07400   ...     22.88  27.66  153.20  1606.0  0.1442  0.2576  0.3784   \n",
       "6  0.05985   ...     17.06  28.14  110.60   897.0  0.1654  0.3682  0.2678   \n",
       "7  0.09353   ...     15.49  30.73  106.20   739.3  0.1703  0.5401  0.5390   \n",
       "8  0.08543   ...     15.09  40.68   97.65   711.4  0.1853  1.0580  1.1050   \n",
       "9  0.03323   ...     19.19  33.88  123.80  1150.0  0.1181  0.1551  0.1459   \n",
       "\n",
       "    0.2654  0.4601   0.1189  \n",
       "0  0.18600  0.2750  0.08902  \n",
       "1  0.24300  0.3613  0.08758  \n",
       "2  0.25750  0.6638  0.17300  \n",
       "3  0.16250  0.2364  0.07678  \n",
       "4  0.17410  0.3985  0.12440  \n",
       "5  0.19320  0.3063  0.08368  \n",
       "6  0.15560  0.3196  0.11510  \n",
       "7  0.20600  0.4378  0.10720  \n",
       "8  0.22100  0.4366  0.20750  \n",
       "9  0.09975  0.2948  0.08452  \n",
       "\n",
       "[10 rows x 32 columns]"
      ]
     },
     "execution_count": 6,
     "metadata": {},
     "output_type": "execute_result"
    }
   ],
   "source": [
    "data.head(10)"
   ]
  },
  {
   "cell_type": "code",
   "execution_count": 7,
   "metadata": {},
   "outputs": [
    {
     "data": {
      "text/plain": [
       "(524, 32)"
      ]
     },
     "execution_count": 7,
     "metadata": {},
     "output_type": "execute_result"
    }
   ],
   "source": [
    "data.shape"
   ]
  },
  {
   "cell_type": "code",
   "execution_count": 8,
   "metadata": {},
   "outputs": [
    {
     "data": {
      "text/plain": [
       "524"
      ]
     },
     "execution_count": 8,
     "metadata": {},
     "output_type": "execute_result"
    }
   ],
   "source": [
    "data.shape[0]"
   ]
  },
  {
   "cell_type": "code",
   "execution_count": 9,
   "metadata": {},
   "outputs": [
    {
     "data": {
      "text/plain": [
       "32"
      ]
     },
     "execution_count": 9,
     "metadata": {},
     "output_type": "execute_result"
    }
   ],
   "source": [
    "data.shape[1]"
   ]
  },
  {
   "cell_type": "code",
   "execution_count": 10,
   "metadata": {},
   "outputs": [],
   "source": [
    "x=data.iloc[:,2:].values\n",
    "y=data.iloc[:,1].values"
   ]
  },
  {
   "cell_type": "code",
   "execution_count": 11,
   "metadata": {},
   "outputs": [
    {
     "name": "stdout",
     "output_type": "stream",
     "text": [
      "(524, 30)\n",
      "\n",
      "(524,)\n"
     ]
    }
   ],
   "source": [
    "print(x.shape)\n",
    "print()\n",
    "print(y.shape)"
   ]
  },
  {
   "cell_type": "code",
   "execution_count": 12,
   "metadata": {},
   "outputs": [
    {
     "data": {
      "text/plain": [
       "<bound method NDFrame.describe of        842302  M   17.99  10.38   122.8    1001   0.1184   0.2776    0.3001  \\\n",
       "0      842517  M  20.570  17.77  132.90  1326.0  0.08474  0.07864  0.086900   \n",
       "1    84300903  M  19.690  21.25  130.00  1203.0  0.10960  0.15990  0.197400   \n",
       "2    84348301  M  11.420  20.38   77.58   386.1  0.14250  0.28390  0.241400   \n",
       "3    84358402  M  20.290  14.34  135.10  1297.0  0.10030  0.13280  0.198000   \n",
       "4      843786  M  12.450  15.70   82.57   477.1  0.12780  0.17000  0.157800   \n",
       "5      844359  M  18.250  19.98  119.60  1040.0  0.09463  0.10900  0.112700   \n",
       "6    84458202  M  13.710  20.83   90.20   577.9  0.11890  0.16450  0.093660   \n",
       "7      844981  M  13.000  21.82   87.50   519.8  0.12730  0.19320  0.185900   \n",
       "8    84501001  M  12.460  24.04   83.97   475.9  0.11860  0.23960  0.227300   \n",
       "9      845636  M  16.020  23.24  102.70   797.8  0.08206  0.06669  0.032990   \n",
       "10   84610002  M  15.780  17.89  103.60   781.0  0.09710  0.12920  0.099540   \n",
       "11     846226  M  19.170  24.80  132.40  1123.0  0.09740  0.24580  0.206500   \n",
       "12     846381  M  15.850  23.95  103.70   782.7  0.08401  0.10020  0.099380   \n",
       "13   84667401  M  13.730  22.61   93.60   578.3  0.11310  0.22930  0.212800   \n",
       "14   84799002  M  14.540  27.54   96.73   658.8  0.11390  0.15950  0.163900   \n",
       "15     848406  M  14.680  20.13   94.74   684.5  0.09867  0.07200  0.073950   \n",
       "16   84862001  M  16.130  20.68  108.10   798.8  0.11700  0.20220  0.172200   \n",
       "17     849014  M  19.810  22.15  130.00  1260.0  0.09831  0.10270  0.147900   \n",
       "18    8510426  B  13.540  14.36   87.46   566.3  0.09779  0.08129  0.066640   \n",
       "19    8510653  B  13.080  15.71   85.63   520.0  0.10750  0.12700  0.045680   \n",
       "20    8510824  B   9.504  12.44   60.34   273.9  0.10240  0.06492  0.029560   \n",
       "21    8511133  M  15.340  14.26  102.50   704.4  0.10730  0.21350  0.207700   \n",
       "22     851509  M  21.160  23.04  137.20  1404.0  0.09428  0.10220  0.109700   \n",
       "23     852552  M  16.650  21.38  110.00   904.6  0.11210  0.14570  0.152500   \n",
       "24     852631  M  17.140  16.40  116.00   912.7  0.11860  0.22760  0.222900   \n",
       "25     852763  M  14.580  21.53   97.41   644.8  0.10540  0.18680  0.142500   \n",
       "26     852781  M  18.610  20.25  122.10  1094.0  0.09440  0.10660  0.149000   \n",
       "27     852973  M  15.300  25.27  102.40   732.4  0.10820  0.16970  0.168300   \n",
       "28     853201  M  17.570  15.05  115.00   955.1  0.09847  0.11570  0.098750   \n",
       "29     853401  M  18.630  25.11  124.80  1088.0  0.10640  0.18870  0.231900   \n",
       "..        ... ..     ...    ...     ...     ...      ...      ...       ...   \n",
       "494    914333  B  14.870  20.21   96.12   680.9  0.09587  0.08345  0.068240   \n",
       "495    914366  B  12.650  18.17   82.69   485.6  0.10760  0.13340  0.080170   \n",
       "496    914580  B  12.470  17.31   80.45   480.1  0.08928  0.07630  0.036090   \n",
       "497    914769  M  18.490  17.52  121.30  1068.0  0.10120  0.13170  0.149100   \n",
       "498     91485  M  20.590  21.24  137.80  1320.0  0.10850  0.16440  0.218800   \n",
       "499    914862  B  15.040  16.74   98.73   689.4  0.09883  0.13640  0.077210   \n",
       "500     91504  M  13.820  24.49   92.33   595.9  0.11620  0.16810  0.135700   \n",
       "501     91505  B  12.540  16.32   81.25   476.3  0.11580  0.10850  0.059280   \n",
       "502    915143  M  23.090  19.83  152.10  1682.0  0.09342  0.12750  0.167600   \n",
       "503    915186  B   9.268  12.87   61.49   248.7  0.16340  0.22390  0.097300   \n",
       "504    915276  B   9.676  13.14   64.12   272.5  0.12550  0.22040  0.118800   \n",
       "505  91544001  B  12.220  20.04   79.47   453.1  0.10960  0.11520  0.081750   \n",
       "506  91544002  B  11.060  17.12   71.25   366.5  0.11940  0.10710  0.040630   \n",
       "507    915452  B  16.300  15.70  104.70   819.8  0.09427  0.06712  0.055260   \n",
       "508    915460  M  15.460  23.95  103.80   731.3  0.11830  0.18700  0.203000   \n",
       "509     91550  B  11.740  14.69   76.31   426.0  0.08099  0.09661  0.067260   \n",
       "510    915664  B  14.810  14.70   94.66   680.7  0.08472  0.05016  0.034160   \n",
       "511    915691  M  13.400  20.52   88.64   556.7  0.11060  0.14690  0.144500   \n",
       "512    915940  B  14.580  13.66   94.29   658.8  0.09832  0.08918  0.082220   \n",
       "513  91594602  M  15.050  19.07   97.26   701.9  0.09215  0.08597  0.074860   \n",
       "514    916221  B  11.340  18.61   72.76   391.2  0.10490  0.08499  0.043020   \n",
       "515    916799  M  18.310  20.58  120.80  1052.0  0.10680  0.12480  0.156900   \n",
       "516    916838  M  19.890  20.26  130.50  1214.0  0.10370  0.13100  0.141100   \n",
       "517    917062  B  12.880  18.22   84.45   493.1  0.12180  0.16610  0.048250   \n",
       "518    917080  B  12.750  16.70   82.51   493.8  0.11250  0.11170  0.038800   \n",
       "519    917092  B   9.295  13.90   59.96   257.8  0.13710  0.12250  0.033320   \n",
       "520  91762702  M  24.630  21.60  165.50  1841.0  0.10300  0.21060  0.231000   \n",
       "521     91789  B  11.260  19.83   71.30   388.1  0.08511  0.04413  0.005067   \n",
       "522    917896  B  13.710  18.68   88.73   571.0  0.09916  0.10700  0.053850   \n",
       "523    917897  B   9.847  15.68   63.00   293.2  0.09492  0.08419  0.023300   \n",
       "\n",
       "       0.1471   ...     25.38  17.33   184.6    2019  0.1622   0.6656  \\\n",
       "0    0.070170   ...     24.99  23.41  158.80  1956.0  0.1238  0.18660   \n",
       "1    0.127900   ...     23.57  25.53  152.50  1709.0  0.1444  0.42450   \n",
       "2    0.105200   ...     14.91  26.50   98.87   567.7  0.2098  0.86630   \n",
       "3    0.104300   ...     22.54  16.67  152.20  1575.0  0.1374  0.20500   \n",
       "4    0.080890   ...     15.47  23.75  103.40   741.6  0.1791  0.52490   \n",
       "5    0.074000   ...     22.88  27.66  153.20  1606.0  0.1442  0.25760   \n",
       "6    0.059850   ...     17.06  28.14  110.60   897.0  0.1654  0.36820   \n",
       "7    0.093530   ...     15.49  30.73  106.20   739.3  0.1703  0.54010   \n",
       "8    0.085430   ...     15.09  40.68   97.65   711.4  0.1853  1.05800   \n",
       "9    0.033230   ...     19.19  33.88  123.80  1150.0  0.1181  0.15510   \n",
       "10   0.066060   ...     20.42  27.28  136.50  1299.0  0.1396  0.56090   \n",
       "11   0.111800   ...     20.96  29.94  151.70  1332.0  0.1037  0.39030   \n",
       "12   0.053640   ...     16.84  27.66  112.00   876.5  0.1131  0.19240   \n",
       "13   0.080250   ...     15.03  32.01  108.80   697.7  0.1651  0.77250   \n",
       "14   0.073640   ...     17.46  37.13  124.10   943.2  0.1678  0.65770   \n",
       "15   0.052590   ...     19.07  30.88  123.40  1138.0  0.1464  0.18710   \n",
       "16   0.102800   ...     20.96  31.48  136.80  1315.0  0.1789  0.42330   \n",
       "17   0.094980   ...     27.32  30.88  186.80  2398.0  0.1512  0.31500   \n",
       "18   0.047810   ...     15.11  19.26   99.70   711.2  0.1440  0.17730   \n",
       "19   0.031100   ...     14.50  20.49   96.09   630.5  0.1312  0.27760   \n",
       "20   0.020760   ...     10.23  15.66   65.13   314.9  0.1324  0.11480   \n",
       "21   0.097560   ...     18.07  19.08  125.10   980.9  0.1390  0.59540   \n",
       "22   0.086320   ...     29.17  35.59  188.00  2615.0  0.1401  0.26000   \n",
       "23   0.091700   ...     26.46  31.56  177.00  2215.0  0.1805  0.35780   \n",
       "24   0.140100   ...     22.25  21.40  152.40  1461.0  0.1545  0.39490   \n",
       "25   0.087830   ...     17.62  33.21  122.40   896.9  0.1525  0.66430   \n",
       "26   0.077310   ...     21.31  27.26  139.90  1403.0  0.1338  0.21170   \n",
       "27   0.087510   ...     20.27  36.71  149.30  1269.0  0.1641  0.61100   \n",
       "28   0.079530   ...     20.01  19.52  134.90  1227.0  0.1255  0.28120   \n",
       "29   0.124400   ...     23.15  34.01  160.50  1670.0  0.1491  0.42570   \n",
       "..        ...   ...       ...    ...     ...     ...     ...      ...   \n",
       "494  0.049510   ...     16.01  28.48  103.90   783.6  0.1216  0.13880   \n",
       "495  0.050740   ...     14.38  22.15   95.29   633.7  0.1533  0.38420   \n",
       "496  0.023690   ...     14.06  24.34   92.82   607.3  0.1276  0.25060   \n",
       "497  0.091830   ...     22.75  22.88  146.40  1600.0  0.1412  0.30890   \n",
       "498  0.112100   ...     23.86  30.76  163.20  1760.0  0.1464  0.35970   \n",
       "499  0.061420   ...     16.76  20.43  109.70   856.9  0.1135  0.21760   \n",
       "500  0.067590   ...     16.01  32.94  106.00   788.0  0.1794  0.39660   \n",
       "501  0.032790   ...     13.57  21.40   86.67   552.0  0.1580  0.17510   \n",
       "502  0.100300   ...     30.79  23.87  211.50  2782.0  0.1199  0.36250   \n",
       "503  0.052520   ...     10.28  16.38   69.05   300.2  0.1902  0.34410   \n",
       "504  0.070380   ...     10.60  18.04   69.47   328.1  0.2006  0.36630   \n",
       "505  0.021660   ...     13.16  24.17   85.13   515.3  0.1402  0.23150   \n",
       "506  0.042680   ...     11.69  20.74   76.08   411.1  0.1662  0.20310   \n",
       "507  0.045630   ...     17.32  17.76  109.80   928.2  0.1354  0.13610   \n",
       "508  0.085200   ...     17.11  36.33  117.70   909.4  0.1732  0.49670   \n",
       "509  0.026390   ...     12.45  17.60   81.25   473.8  0.1073  0.27930   \n",
       "510  0.025410   ...     15.61  17.58  101.70   760.2  0.1139  0.10110   \n",
       "511  0.081720   ...     16.41  29.66  113.30   844.4  0.1574  0.38560   \n",
       "512  0.043490   ...     16.76  17.24  108.50   862.0  0.1223  0.19280   \n",
       "513  0.043350   ...     17.58  28.06  113.80   967.0  0.1246  0.21010   \n",
       "514  0.025940   ...     12.47  23.03   79.15   478.6  0.1483  0.15740   \n",
       "515  0.094510   ...     21.86  26.20  142.20  1493.0  0.1492  0.25360   \n",
       "516  0.094310   ...     23.73  25.23  160.50  1646.0  0.1417  0.33090   \n",
       "517  0.053030   ...     15.05  24.37   99.31   674.7  0.1456  0.29610   \n",
       "518  0.029950   ...     14.45  21.74   93.63   624.1  0.1475  0.19790   \n",
       "519  0.024210   ...     10.57  17.84   67.84   326.6  0.1850  0.20970   \n",
       "520  0.147100   ...     29.92  26.93  205.70  2642.0  0.1342  0.41880   \n",
       "521  0.005664   ...     11.93  26.43   76.38   435.9  0.1108  0.07723   \n",
       "522  0.037830   ...     15.11  25.63   99.43   701.9  0.1425  0.25660   \n",
       "523  0.024160   ...     11.24  22.99   74.32   376.5  0.1419  0.22430   \n",
       "\n",
       "      0.7119   0.2654  0.4601   0.1189  \n",
       "0    0.24160  0.18600  0.2750  0.08902  \n",
       "1    0.45040  0.24300  0.3613  0.08758  \n",
       "2    0.68690  0.25750  0.6638  0.17300  \n",
       "3    0.40000  0.16250  0.2364  0.07678  \n",
       "4    0.53550  0.17410  0.3985  0.12440  \n",
       "5    0.37840  0.19320  0.3063  0.08368  \n",
       "6    0.26780  0.15560  0.3196  0.11510  \n",
       "7    0.53900  0.20600  0.4378  0.10720  \n",
       "8    1.10500  0.22100  0.4366  0.20750  \n",
       "9    0.14590  0.09975  0.2948  0.08452  \n",
       "10   0.39650  0.18100  0.3792  0.10480  \n",
       "11   0.36390  0.17670  0.3176  0.10230  \n",
       "12   0.23220  0.11190  0.2809  0.06287  \n",
       "13   0.69430  0.22080  0.3596  0.14310  \n",
       "14   0.70260  0.17120  0.4218  0.13410  \n",
       "15   0.29140  0.16090  0.3029  0.08216  \n",
       "16   0.47840  0.20730  0.3706  0.11420  \n",
       "17   0.53720  0.23880  0.2768  0.07615  \n",
       "18   0.23900  0.12880  0.2977  0.07259  \n",
       "19   0.18900  0.07283  0.3184  0.08183  \n",
       "20   0.08867  0.06227  0.2450  0.07773  \n",
       "21   0.63050  0.23930  0.4667  0.09946  \n",
       "22   0.31550  0.20090  0.2822  0.07526  \n",
       "23   0.46950  0.20950  0.3613  0.09564  \n",
       "24   0.38530  0.25500  0.4066  0.10590  \n",
       "25   0.55390  0.27010  0.4264  0.12750  \n",
       "26   0.34460  0.14900  0.2341  0.07421  \n",
       "27   0.63350  0.20240  0.4027  0.09876  \n",
       "28   0.24890  0.14560  0.2756  0.07919  \n",
       "29   0.61330  0.18480  0.3444  0.09782  \n",
       "..       ...      ...     ...      ...  \n",
       "494  0.17000  0.10170  0.2369  0.06599  \n",
       "495  0.35820  0.14070  0.3230  0.10330  \n",
       "496  0.20280  0.10530  0.3035  0.07661  \n",
       "497  0.35330  0.16630  0.2510  0.09445  \n",
       "498  0.51790  0.21130  0.2480  0.08999  \n",
       "499  0.18560  0.10180  0.2177  0.08549  \n",
       "500  0.33810  0.15210  0.3651  0.11830  \n",
       "501  0.18890  0.08411  0.3155  0.07538  \n",
       "502  0.37940  0.22640  0.2908  0.07277  \n",
       "503  0.20990  0.10250  0.3038  0.12520  \n",
       "504  0.29130  0.10750  0.2848  0.13640  \n",
       "505  0.35350  0.08088  0.2709  0.08839  \n",
       "506  0.12560  0.09514  0.2780  0.11680  \n",
       "507  0.19470  0.13570  0.2300  0.07230  \n",
       "508  0.59110  0.21630  0.3013  0.10670  \n",
       "509  0.26900  0.10560  0.2604  0.09879  \n",
       "510  0.11010  0.07955  0.2334  0.06142  \n",
       "511  0.51060  0.20510  0.3585  0.11090  \n",
       "512  0.24920  0.09186  0.2626  0.07048  \n",
       "513  0.28660  0.11200  0.2282  0.06954  \n",
       "514  0.16240  0.08542  0.3060  0.06783  \n",
       "515  0.37590  0.15100  0.3074  0.07863  \n",
       "516  0.41850  0.16130  0.2549  0.09136  \n",
       "517  0.12460  0.10960  0.2582  0.08893  \n",
       "518  0.14230  0.08045  0.3071  0.08557  \n",
       "519  0.09996  0.07262  0.3681  0.08982  \n",
       "520  0.46580  0.24750  0.3157  0.09671  \n",
       "521  0.02533  0.02832  0.2557  0.07613  \n",
       "522  0.19350  0.12840  0.2849  0.09031  \n",
       "523  0.08434  0.06528  0.2502  0.09209  \n",
       "\n",
       "[524 rows x 32 columns]>"
      ]
     },
     "execution_count": 12,
     "metadata": {},
     "output_type": "execute_result"
    }
   ],
   "source": [
    "# Described\n",
    "data.describe"
   ]
  },
  {
   "cell_type": "code",
   "execution_count": 13,
   "metadata": {},
   "outputs": [
    {
     "name": "stdout",
     "output_type": "stream",
     "text": [
      "check null values\n",
      ":\n",
      "842302      0\n",
      "M           0\n",
      "17.99       0\n",
      "10.38       0\n",
      "122.8       0\n",
      "1001        0\n",
      "0.1184      0\n",
      "0.2776      0\n",
      "0.3001      0\n",
      "0.1471      0\n",
      "0.2419      0\n",
      "0.07871     0\n",
      "1.095       0\n",
      "0.9053      0\n",
      "8.589       0\n",
      "153.4       0\n",
      "0.006399    0\n",
      "0.04904     0\n",
      "0.05373     0\n",
      "0.01587     0\n",
      "0.03003     0\n",
      "0.006193    0\n",
      "25.38       0\n",
      "17.33       0\n",
      "184.6       0\n",
      "2019        0\n",
      "0.1622      0\n",
      "0.6656      0\n",
      "0.7119      0\n",
      "0.2654      0\n",
      "0.4601      0\n",
      "0.1189      0\n",
      "dtype: int64\n"
     ]
    }
   ],
   "source": [
    "print(\"check null values\\n:\")\n",
    "print(data.isnull().sum())"
   ]
  },
  {
   "cell_type": "code",
   "execution_count": 14,
   "metadata": {},
   "outputs": [
    {
     "name": "stdout",
     "output_type": "stream",
     "text": [
      "['B' 'M']\n"
     ]
    }
   ],
   "source": [
    "import numpy as np\n",
    "print(np.unique(y))"
   ]
  },
  {
   "cell_type": "code",
   "execution_count": 15,
   "metadata": {},
   "outputs": [
    {
     "name": "stdout",
     "output_type": "stream",
     "text": [
      "[0 1]\n"
     ]
    }
   ],
   "source": [
    "from sklearn.preprocessing import LabelEncoder\n",
    "le=LabelEncoder()\n",
    "y=le.fit_transform(y)\n",
    "print(np.unique(y))"
   ]
  },
  {
   "cell_type": "code",
   "execution_count": 16,
   "metadata": {},
   "outputs": [],
   "source": [
    "from sklearn.model_selection import train_test_split\n",
    "X_train,X_test,y_train,y_test=train_test_split(x,y,test_size=0.3,random_state=0)"
   ]
  },
  {
   "cell_type": "code",
   "execution_count": 17,
   "metadata": {},
   "outputs": [],
   "source": [
    "from sklearn.preprocessing import StandardScaler\n",
    "from sklearn.decomposition import PCA\n",
    "from sklearn.linear_model import LogisticRegression\n",
    "from sklearn.pipeline import Pipeline"
   ]
  },
  {
   "cell_type": "code",
   "execution_count": 18,
   "metadata": {},
   "outputs": [],
   "source": [
    "pipe_lr=Pipeline([('std',StandardScaler()),\n",
    "                  ('pca',PCA()),\n",
    "                  ('lr',LogisticRegression(penalty='l1'))])"
   ]
  },
  {
   "cell_type": "code",
   "execution_count": 19,
   "metadata": {},
   "outputs": [
    {
     "name": "stderr",
     "output_type": "stream",
     "text": [
      "/home/vikas/anaconda3/lib/python3.7/site-packages/sklearn/linear_model/logistic.py:433: FutureWarning: Default solver will be changed to 'lbfgs' in 0.22. Specify a solver to silence this warning.\n",
      "  FutureWarning)\n"
     ]
    }
   ],
   "source": [
    "pipe_lr.fit(X_train,y_train)\n",
    "acc=pipe_lr.score(X_test,y_test)"
   ]
  },
  {
   "cell_type": "code",
   "execution_count": 20,
   "metadata": {},
   "outputs": [],
   "source": [
    "score=[]"
   ]
  },
  {
   "cell_type": "code",
   "execution_count": 21,
   "metadata": {},
   "outputs": [
    {
     "name": "stdout",
     "output_type": "stream",
     "text": [
      "[0.9811320754716981, 0.9622641509433962, 0.9807692307692307, 0.9615384615384616, 0.9903846153846154]\n",
      "Average\n",
      ": 0.9752177068214805\n"
     ]
    },
    {
     "name": "stderr",
     "output_type": "stream",
     "text": [
      "/home/vikas/anaconda3/lib/python3.7/site-packages/sklearn/linear_model/logistic.py:433: FutureWarning: Default solver will be changed to 'lbfgs' in 0.22. Specify a solver to silence this warning.\n",
      "  FutureWarning)\n",
      "/home/vikas/anaconda3/lib/python3.7/site-packages/sklearn/linear_model/logistic.py:433: FutureWarning: Default solver will be changed to 'lbfgs' in 0.22. Specify a solver to silence this warning.\n",
      "  FutureWarning)\n",
      "/home/vikas/anaconda3/lib/python3.7/site-packages/sklearn/linear_model/logistic.py:433: FutureWarning: Default solver will be changed to 'lbfgs' in 0.22. Specify a solver to silence this warning.\n",
      "  FutureWarning)\n",
      "/home/vikas/anaconda3/lib/python3.7/site-packages/sklearn/linear_model/logistic.py:433: FutureWarning: Default solver will be changed to 'lbfgs' in 0.22. Specify a solver to silence this warning.\n",
      "  FutureWarning)\n",
      "/home/vikas/anaconda3/lib/python3.7/site-packages/sklearn/linear_model/logistic.py:433: FutureWarning: Default solver will be changed to 'lbfgs' in 0.22. Specify a solver to silence this warning.\n",
      "  FutureWarning)\n"
     ]
    }
   ],
   "source": [
    "from sklearn.model_selection import StratifiedKFold\n",
    "skf=StratifiedKFold(n_splits=5,random_state=None)\n",
    "for train_index, test_index in skf.split(x,y):\n",
    "    #print(train_index)\n",
    "    X_train,X_test=x[train_index],x[test_index]\n",
    "    y_train,y_test=y[train_index],y[test_index]\n",
    "    pipe_lr.fit(X_train,y_train)\n",
    "    score1=pipe_lr.score(X_test,y_test)\n",
    "    score.append(score1)\n",
    "print(score)\n",
    "print(\"Average\\n:\",np.mean(score))"
   ]
  },
  {
   "cell_type": "markdown",
   "metadata": {},
   "source": [
    "# Another function for cross_val"
   ]
  },
  {
   "cell_type": "code",
   "execution_count": 22,
   "metadata": {},
   "outputs": [
    {
     "name": "stderr",
     "output_type": "stream",
     "text": [
      "/home/vikas/anaconda3/lib/python3.7/site-packages/sklearn/linear_model/logistic.py:433: FutureWarning: Default solver will be changed to 'lbfgs' in 0.22. Specify a solver to silence this warning.\n",
      "  FutureWarning)\n",
      "/home/vikas/anaconda3/lib/python3.7/site-packages/sklearn/linear_model/logistic.py:433: FutureWarning: Default solver will be changed to 'lbfgs' in 0.22. Specify a solver to silence this warning.\n",
      "  FutureWarning)\n",
      "/home/vikas/anaconda3/lib/python3.7/site-packages/sklearn/linear_model/logistic.py:433: FutureWarning: Default solver will be changed to 'lbfgs' in 0.22. Specify a solver to silence this warning.\n",
      "  FutureWarning)\n",
      "/home/vikas/anaconda3/lib/python3.7/site-packages/sklearn/linear_model/logistic.py:433: FutureWarning: Default solver will be changed to 'lbfgs' in 0.22. Specify a solver to silence this warning.\n",
      "  FutureWarning)\n",
      "/home/vikas/anaconda3/lib/python3.7/site-packages/sklearn/linear_model/logistic.py:433: FutureWarning: Default solver will be changed to 'lbfgs' in 0.22. Specify a solver to silence this warning.\n",
      "  FutureWarning)\n",
      "/home/vikas/anaconda3/lib/python3.7/site-packages/sklearn/linear_model/logistic.py:433: FutureWarning: Default solver will be changed to 'lbfgs' in 0.22. Specify a solver to silence this warning.\n",
      "  FutureWarning)\n",
      "/home/vikas/anaconda3/lib/python3.7/site-packages/sklearn/linear_model/logistic.py:433: FutureWarning: Default solver will be changed to 'lbfgs' in 0.22. Specify a solver to silence this warning.\n",
      "  FutureWarning)\n",
      "/home/vikas/anaconda3/lib/python3.7/site-packages/sklearn/linear_model/logistic.py:433: FutureWarning: Default solver will be changed to 'lbfgs' in 0.22. Specify a solver to silence this warning.\n",
      "  FutureWarning)\n",
      "/home/vikas/anaconda3/lib/python3.7/site-packages/sklearn/linear_model/logistic.py:433: FutureWarning: Default solver will be changed to 'lbfgs' in 0.22. Specify a solver to silence this warning.\n",
      "  FutureWarning)\n",
      "/home/vikas/anaconda3/lib/python3.7/site-packages/sklearn/linear_model/logistic.py:433: FutureWarning: Default solver will be changed to 'lbfgs' in 0.22. Specify a solver to silence this warning.\n",
      "  FutureWarning)\n"
     ]
    },
    {
     "name": "stdout",
     "output_type": "stream",
     "text": [
      "[0.98148148 0.98148148 0.96153846 0.96153846 0.96153846 0.98076923\n",
      " 0.96153846 0.96153846 0.98076923 1.        ]\n",
      "Average:\n",
      "0.9732193732193732\n"
     ]
    }
   ],
   "source": [
    "from sklearn.model_selection import cross_val_score\n",
    "scores=cross_val_score(pipe_lr,x,y,cv=10)\n",
    "print(scores)\n",
    "print(\"Average:\")\n",
    "print(np.mean(scores))"
   ]
  },
  {
   "cell_type": "markdown",
   "metadata": {},
   "source": [
    "# Grid search (Hyper tuning)"
   ]
  },
  {
   "cell_type": "code",
   "execution_count": 23,
   "metadata": {},
   "outputs": [],
   "source": [
    "from sklearn.model_selection import GridSearchCV\n",
    "from sklearn.svm import SVC"
   ]
  },
  {
   "cell_type": "code",
   "execution_count": 24,
   "metadata": {},
   "outputs": [],
   "source": [
    "pipe_svc=Pipeline([('srd',StandardScaler()),('clf',SVC())])\n",
    "param={'clf__C':[0.0001,0.001,0.01,0.1,1,10,100,1000,10000],'clf__gamma':[0.0001,0.001,0.01,0.1,1,10,100,1000,10000],'clf__kernel':['linear','rbf']}\n",
    "#param_grid=[{'C':parameter,'kernel':['linear']},{'C':parameter,'gamma':parameter,'kernel':['rbf']}]\n"
   ]
  },
  {
   "cell_type": "code",
   "execution_count": 25,
   "metadata": {},
   "outputs": [],
   "source": [
    "gs=GridSearchCV(estimator=pipe_svc,param_grid=param,scoring='accuracy',cv=10)"
   ]
  },
  {
   "cell_type": "code",
   "execution_count": 26,
   "metadata": {},
   "outputs": [
    {
     "name": "stdout",
     "output_type": "stream",
     "text": [
      "0.9738095238095238\n",
      "{'clf__C': 10, 'clf__gamma': 0.001, 'clf__kernel': 'rbf'}\n"
     ]
    },
    {
     "name": "stderr",
     "output_type": "stream",
     "text": [
      "/home/vikas/anaconda3/lib/python3.7/site-packages/sklearn/model_selection/_search.py:841: DeprecationWarning: The default of the `iid` parameter will change from True to False in version 0.22 and will be removed in 0.24. This will change numeric results when test-set sizes are unequal.\n",
      "  DeprecationWarning)\n"
     ]
    }
   ],
   "source": [
    "gs.fit(X_train,y_train)\n",
    "print(gs.best_score_)\n",
    "print(gs.best_params_)"
   ]
  },
  {
   "cell_type": "code",
   "execution_count": null,
   "metadata": {},
   "outputs": [],
   "source": []
  },
  {
   "cell_type": "code",
   "execution_count": null,
   "metadata": {},
   "outputs": [],
   "source": []
  },
  {
   "cell_type": "code",
   "execution_count": null,
   "metadata": {},
   "outputs": [],
   "source": []
  }
 ],
 "metadata": {
  "kernelspec": {
   "display_name": "Python 3",
   "language": "python",
   "name": "python3"
  },
  "language_info": {
   "codemirror_mode": {
    "name": "ipython",
    "version": 3
   },
   "file_extension": ".py",
   "mimetype": "text/x-python",
   "name": "python",
   "nbconvert_exporter": "python",
   "pygments_lexer": "ipython3",
   "version": "3.7.1"
  }
 },
 "nbformat": 4,
 "nbformat_minor": 2
}
