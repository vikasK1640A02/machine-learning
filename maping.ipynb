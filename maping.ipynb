{
 "cells": [
  {
   "cell_type": "code",
   "execution_count": 27,
   "metadata": {},
   "outputs": [],
   "source": [
    "import pandas as pd\n",
    "import numpy as np"
   ]
  },
  {
   "cell_type": "code",
   "execution_count": 28,
   "metadata": {},
   "outputs": [
    {
     "data": {
      "text/html": [
       "<div>\n",
       "<style scoped>\n",
       "    .dataframe tbody tr th:only-of-type {\n",
       "        vertical-align: middle;\n",
       "    }\n",
       "\n",
       "    .dataframe tbody tr th {\n",
       "        vertical-align: top;\n",
       "    }\n",
       "\n",
       "    .dataframe thead th {\n",
       "        text-align: right;\n",
       "    }\n",
       "</style>\n",
       "<table border=\"1\" class=\"dataframe\">\n",
       "  <thead>\n",
       "    <tr style=\"text-align: right;\">\n",
       "      <th></th>\n",
       "      <th>color</th>\n",
       "      <th>size</th>\n",
       "      <th>price</th>\n",
       "      <th>classlabel</th>\n",
       "    </tr>\n",
       "  </thead>\n",
       "  <tbody>\n",
       "    <tr>\n",
       "      <th>0</th>\n",
       "      <td>red</td>\n",
       "      <td>L</td>\n",
       "      <td>15.10</td>\n",
       "      <td>Class1</td>\n",
       "    </tr>\n",
       "    <tr>\n",
       "      <th>1</th>\n",
       "      <td>green</td>\n",
       "      <td>XL</td>\n",
       "      <td>20.00</td>\n",
       "      <td>Class2</td>\n",
       "    </tr>\n",
       "    <tr>\n",
       "      <th>2</th>\n",
       "      <td>blue</td>\n",
       "      <td>S</td>\n",
       "      <td>12.34</td>\n",
       "      <td>Class2</td>\n",
       "    </tr>\n",
       "    <tr>\n",
       "      <th>3</th>\n",
       "      <td>red</td>\n",
       "      <td>M</td>\n",
       "      <td>13.00</td>\n",
       "      <td>Class1</td>\n",
       "    </tr>\n",
       "  </tbody>\n",
       "</table>\n",
       "</div>"
      ],
      "text/plain": [
       "   color size  price classlabel\n",
       "0    red    L  15.10     Class1\n",
       "1  green   XL  20.00     Class2\n",
       "2   blue    S  12.34     Class2\n",
       "3    red    M  13.00     Class1"
      ]
     },
     "execution_count": 28,
     "metadata": {},
     "output_type": "execute_result"
    }
   ],
   "source": [
    "df=pd.read_csv('v.csv')\n",
    "df"
   ]
  },
  {
   "cell_type": "code",
   "execution_count": 29,
   "metadata": {},
   "outputs": [
    {
     "name": "stdout",
     "output_type": "stream",
     "text": [
      "\n",
      " {'S': 1, 'M': 2, 'L': 3, 'XL': 4}\n",
      "\n",
      "\n",
      "   color  size  price classlabel\n",
      "0    red     3  15.10     Class1\n",
      "1  green     4  20.00     Class2\n",
      "2   blue     1  12.34     Class2\n",
      "3    red     2  13.00     Class1\n"
     ]
    }
   ],
   "source": [
    "#size maping\n",
    "size_maping={'S':1,'M':2,'L':3,'XL':4}#change string to int values\n",
    "print(\"\\n\",size_maping)\n",
    "print(\"\\n\")\n",
    "df['size']=df['size'].map(size_maping)\n",
    "print(df)"
   ]
  },
  {
   "cell_type": "code",
   "execution_count": 30,
   "metadata": {},
   "outputs": [
    {
     "name": "stdout",
     "output_type": "stream",
     "text": [
      "\n",
      " {'Class1': 0, 'Class2': 1}\n",
      "\n",
      "\n",
      "   color  size  price  classlabel\n",
      "0    red     3  15.10           0\n",
      "1  green     4  20.00           1\n",
      "2   blue     1  12.34           1\n",
      "3    red     2  13.00           0\n"
     ]
    }
   ],
   "source": [
    "class_maping={label:idx for idx,label in enumerate(np.unique(df['classlabel']))}\n",
    "#class_maping={'class1':0,'class2':1}\n",
    "print(\"\\n\",class_maping)\n",
    "print(\"\\n\")\n",
    "df['classlabel']=df['classlabel'].map(class_maping)\n",
    "print(df)"
   ]
  },
  {
   "cell_type": "code",
   "execution_count": 31,
   "metadata": {},
   "outputs": [
    {
     "name": "stdout",
     "output_type": "stream",
     "text": [
      "\n",
      " {1: 'S', 2: 'M', 3: 'L', 4: 'XL'}\n",
      "\n",
      "\n",
      "   color size  price  classlabel\n",
      "0    red    L  15.10           0\n",
      "1  green   XL  20.00           1\n",
      "2   blue    S  12.34           1\n",
      "3    red    M  13.00           0\n"
     ]
    }
   ],
   "source": [
    "#inverse size maping\n",
    "inv_size_map={v: k for k,v in size_maping.items()}\n",
    "print(\"\\n\",inv_size_map)\n",
    "print(\"\\n\")\n",
    "df['size']=df['size'].map(inv_size_map)\n",
    "print(df)"
   ]
  },
  {
   "cell_type": "code",
   "execution_count": null,
   "metadata": {},
   "outputs": [],
   "source": []
  },
  {
   "cell_type": "code",
   "execution_count": null,
   "metadata": {},
   "outputs": [],
   "source": []
  }
 ],
 "metadata": {
  "kernelspec": {
   "display_name": "Python 3",
   "language": "python",
   "name": "python3"
  },
  "language_info": {
   "codemirror_mode": {
    "name": "ipython",
    "version": 3
   },
   "file_extension": ".py",
   "mimetype": "text/x-python",
   "name": "python",
   "nbconvert_exporter": "python",
   "pygments_lexer": "ipython3",
   "version": "3.7.1"
  }
 },
 "nbformat": 4,
 "nbformat_minor": 2
}
