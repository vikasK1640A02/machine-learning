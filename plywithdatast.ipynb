{
 "cells": [
  {
   "cell_type": "code",
   "execution_count": 2,
   "metadata": {},
   "outputs": [
    {
     "name": "stdout",
     "output_type": "stream",
     "text": [
      "      A     B     C     D\n",
      "0  10.0  20.0  30.0  40.0\n",
      "1   1.0   2.0   NaN   4.0\n",
      "2   5.0   6.0   NaN   8.0\n",
      "3   0.0  11.0  12.0   NaN\n",
      "      A     B     C     D\n",
      "0  10.0  20.0  30.0  40.0\n",
      "1   1.0   2.0   NaN   4.0\n",
      "2   5.0   6.0   NaN   8.0\n",
      "3   0.0  11.0  12.0   NaN\n",
      "      A     B     C     D\n",
      "0  10.0  20.0  30.0  40.0\n",
      "1   1.0   2.0   NaN   4.0\n",
      "2   5.0   6.0   NaN   8.0\n",
      "3   0.0  11.0  12.0   NaN\n",
      "Number of missing value\n",
      "A    0\n",
      "B    0\n",
      "C    2\n",
      "D    1\n",
      "dtype: int64\n",
      "data frame as matrix\n",
      "[[10. 20. 30. 40.]\n",
      " [ 1.  2. nan  4.]\n",
      " [ 5.  6. nan  8.]\n",
      " [ 0. 11. 12. nan]]\n"
     ]
    }
   ],
   "source": [
    "import pandas as pd\n",
    "import numpy as np\n",
    "from io import StringIO\n",
    "csv_data='''A,B,C,D\n",
    "\n",
    "10,20,30,40\n",
    "1.0,2.0,,4.0\n",
    "5.0,6.0,,8.0\n",
    "0.0,11.0,12.0,'''\n",
    "\n",
    "df=pd.read_csv(StringIO(csv_data))\n",
    "print(df)\n",
    "print(df.tail())\n",
    "print(df.head())\n",
    "print('Number of missing value')\n",
    "print(df.isnull().sum())\n",
    "print('data frame as matrix')\n",
    "print(df.values)"
   ]
  },
  {
   "cell_type": "code",
   "execution_count": 3,
   "metadata": {},
   "outputs": [
    {
     "name": "stdout",
     "output_type": "stream",
     "text": [
      "Imputed_data:\n",
      " [[10.         20.         30.         40.        ]\n",
      " [ 1.          2.         21.          4.        ]\n",
      " [ 5.          6.         21.          8.        ]\n",
      " [ 0.         11.         12.         17.33333333]]\n"
     ]
    }
   ],
   "source": [
    "from sklearn.impute import SimpleImputer\n",
    "imput=SimpleImputer(missing_values=np.nan,strategy='mean')\n",
    "imput=imput.fit(df)\n",
    "imputed_data=imput.transform(df.values)\n",
    "print(\"Imputed_data:\\n\",imputed_data)"
   ]
  },
  {
   "cell_type": "code",
   "execution_count": 4,
   "metadata": {},
   "outputs": [
    {
     "name": "stdout",
     "output_type": "stream",
     "text": [
      "Imputed_data:\n",
      " [[10. 20. 30. 40.]\n",
      " [ 1.  2. 21.  4.]\n",
      " [ 5.  6. 21.  8.]\n",
      " [ 0. 11. 12.  8.]]\n"
     ]
    }
   ],
   "source": [
    "imput=SimpleImputer(missing_values=np.nan,strategy='median')\n",
    "imput=imput.fit(df)\n",
    "imputed_data=imput.transform(df.values)\n",
    "print(\"Imputed_data:\\n\",imputed_data)"
   ]
  },
  {
   "cell_type": "code",
   "execution_count": 5,
   "metadata": {},
   "outputs": [
    {
     "name": "stdout",
     "output_type": "stream",
     "text": [
      "      A     B     C     D\n",
      "0  10.0  20.0  30.0  40.0\n"
     ]
    }
   ],
   "source": [
    "df1=df.dropna()\n",
    "print(df1)"
   ]
  },
  {
   "cell_type": "code",
   "execution_count": 6,
   "metadata": {},
   "outputs": [
    {
     "name": "stdout",
     "output_type": "stream",
     "text": [
      "      A     B\n",
      "0  10.0  20.0\n",
      "1   1.0   2.0\n",
      "2   5.0   6.0\n",
      "3   0.0  11.0\n"
     ]
    }
   ],
   "source": [
    "df2=df.dropna(axis=1)\n",
    "print(df2)"
   ]
  },
  {
   "cell_type": "code",
   "execution_count": 9,
   "metadata": {},
   "outputs": [
    {
     "name": "stdout",
     "output_type": "stream",
     "text": [
      "      A     B     C     D\n",
      "0  10.0  20.0  30.0  40.0\n",
      "1   1.0   2.0   NaN   4.0\n",
      "2   5.0   6.0   NaN   8.0\n",
      "3   0.0  11.0  12.0   NaN\n"
     ]
    }
   ],
   "source": [
    "print(df.dropna(how='all'))\n"
   ]
  },
  {
   "cell_type": "code",
   "execution_count": 11,
   "metadata": {},
   "outputs": [
    {
     "name": "stdout",
     "output_type": "stream",
     "text": [
      "      A     B     C     D\n",
      "0  10.0  20.0  30.0  40.0\n",
      "1   1.0   2.0   NaN   4.0\n",
      "2   5.0   6.0   NaN   8.0\n",
      "3   0.0  11.0  12.0   NaN\n"
     ]
    }
   ],
   "source": [
    "df4=df.dropna(thresh=3)\n",
    "print(df4)"
   ]
  },
  {
   "cell_type": "code",
   "execution_count": 12,
   "metadata": {},
   "outputs": [
    {
     "name": "stdout",
     "output_type": "stream",
     "text": [
      "      A     B     C     D\n",
      "0  10.0  20.0  30.0  40.0\n",
      "3   0.0  11.0  12.0   NaN\n"
     ]
    }
   ],
   "source": [
    "print(df.dropna(subset=['C']))"
   ]
  },
  {
   "cell_type": "code",
   "execution_count": null,
   "metadata": {},
   "outputs": [],
   "source": []
  }
 ],
 "metadata": {
  "kernelspec": {
   "display_name": "Python 3",
   "language": "python",
   "name": "python3"
  },
  "language_info": {
   "codemirror_mode": {
    "name": "ipython",
    "version": 3
   },
   "file_extension": ".py",
   "mimetype": "text/x-python",
   "name": "python",
   "nbconvert_exporter": "python",
   "pygments_lexer": "ipython3",
   "version": "3.7.1"
  }
 },
 "nbformat": 4,
 "nbformat_minor": 2
}
